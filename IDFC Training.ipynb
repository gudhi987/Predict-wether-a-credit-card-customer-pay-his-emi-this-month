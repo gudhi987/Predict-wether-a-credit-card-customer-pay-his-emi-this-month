{
 "cells": [
  {
   "cell_type": "markdown",
   "id": "31f37e1c",
   "metadata": {},
   "source": [
    "<html>\n",
    "    <h3>Let's start with importing necessary libraries.</h3>\n",
    "</html>"
   ]
  },
  {
   "cell_type": "code",
   "execution_count": 1,
   "id": "2f04be25",
   "metadata": {},
   "outputs": [],
   "source": [
    "import numpy as np\n",
    "import pandas as pd\n",
    "import matplotlib.pyplot as plt\n",
    "import seaborn as sns\n",
    "import sklearn\n",
    "import tensorflow as tf\n",
    "from tensorflow import keras\n",
    "from sklearn.impute import KNNImputer\n",
    "from sklearn.model_selection import train_test_split\n",
    "from sklearn.metrics import r2_score\n",
    "from sklearn.metrics import accuracy_score\n",
    "from sklearn.linear_model import LinearRegression\n",
    "from sklearn.preprocessing import LabelEncoder\n",
    "from sklearn.linear_model import SGDClassifier\n",
    "from sklearn.linear_model import LogisticRegression\n",
    "from sklearn.tree import DecisionTreeClassifier\n",
    "from sklearn.tree import DecisionTreeRegressor\n",
    "from sklearn.ensemble import RandomForestClassifier\n",
    "from sklearn.ensemble import RandomForestRegressor\n",
    "from sklearn.svm import SVC\n",
    "from sklearn.svm import SVR\n",
    "from sklearn.naive_bayes import GaussianNB\n",
    "from imblearn.over_sampling import SMOTE\n",
    "from sklearn.ensemble import GradientBoostingClassifier\n",
    "from sklearn.metrics import confusion_matrix,ConfusionMatrixDisplay\n",
    "from sklearn.metrics import f1_score\n",
    "from sklearn.metrics import recall_score\n",
    "from sklearn.metrics import precision_score\n",
    "from sklearn.neighbors import KNeighborsClassifier"
   ]
  },
  {
   "cell_type": "markdown",
   "id": "61c83d61",
   "metadata": {},
   "source": [
    "<html>\n",
    "    <h3>Now, Let's start analyzing the given dataset.</h3>\n",
    "</html>"
   ]
  },
  {
   "cell_type": "code",
   "execution_count": 2,
   "id": "301f3df2",
   "metadata": {},
   "outputs": [
    {
     "data": {
      "text/html": [
       "<div>\n",
       "<style scoped>\n",
       "    .dataframe tbody tr th:only-of-type {\n",
       "        vertical-align: middle;\n",
       "    }\n",
       "\n",
       "    .dataframe tbody tr th {\n",
       "        vertical-align: top;\n",
       "    }\n",
       "\n",
       "    .dataframe thead th {\n",
       "        text-align: right;\n",
       "    }\n",
       "</style>\n",
       "<table border=\"1\" class=\"dataframe\">\n",
       "  <thead>\n",
       "    <tr style=\"text-align: right;\">\n",
       "      <th></th>\n",
       "      <th>Customer_No</th>\n",
       "      <th>N_Default_L3m</th>\n",
       "      <th>Branch_Code</th>\n",
       "      <th>Max_Utilization</th>\n",
       "      <th>Max_Perc_Def_Chg_Pending</th>\n",
       "      <th>N_Family_Member</th>\n",
       "      <th>Max_Ratio_OC_Pending_POS</th>\n",
       "      <th>N_PosBkt_L3m</th>\n",
       "      <th>CoAp_Income</th>\n",
       "      <th>Ever_Default_L12M</th>\n",
       "      <th>...</th>\n",
       "      <th>Birth_Year</th>\n",
       "      <th>Max_DPD_L3m</th>\n",
       "      <th>Perc_Paymode_Cheq_Fail</th>\n",
       "      <th>Age</th>\n",
       "      <th>Total_Field_Trails</th>\n",
       "      <th>Total_Resolved</th>\n",
       "      <th>N_Enq_L9m</th>\n",
       "      <th>Max_Loan_Balance_Others</th>\n",
       "      <th>N_WorkEx_Yr</th>\n",
       "      <th>Target_Flag</th>\n",
       "    </tr>\n",
       "  </thead>\n",
       "  <tbody>\n",
       "    <tr>\n",
       "      <th>0</th>\n",
       "      <td>1</td>\n",
       "      <td>3</td>\n",
       "      <td>61749</td>\n",
       "      <td>38</td>\n",
       "      <td>100.0</td>\n",
       "      <td>5</td>\n",
       "      <td>NaN</td>\n",
       "      <td>0.0</td>\n",
       "      <td>NaN</td>\n",
       "      <td>Yes</td>\n",
       "      <td>...</td>\n",
       "      <td>1977</td>\n",
       "      <td>19.0</td>\n",
       "      <td>0.750</td>\n",
       "      <td>46</td>\n",
       "      <td>NaN</td>\n",
       "      <td>NaN</td>\n",
       "      <td>0</td>\n",
       "      <td>5527.0</td>\n",
       "      <td>15</td>\n",
       "      <td>0</td>\n",
       "    </tr>\n",
       "    <tr>\n",
       "      <th>1</th>\n",
       "      <td>2</td>\n",
       "      <td>1</td>\n",
       "      <td>30831</td>\n",
       "      <td>68</td>\n",
       "      <td>100.0</td>\n",
       "      <td>1</td>\n",
       "      <td>NaN</td>\n",
       "      <td>0.0</td>\n",
       "      <td>NaN</td>\n",
       "      <td>Yes</td>\n",
       "      <td>...</td>\n",
       "      <td>1990</td>\n",
       "      <td>2.0</td>\n",
       "      <td>0.500</td>\n",
       "      <td>33</td>\n",
       "      <td>NaN</td>\n",
       "      <td>NaN</td>\n",
       "      <td>0</td>\n",
       "      <td>12104.0</td>\n",
       "      <td>2</td>\n",
       "      <td>0</td>\n",
       "    </tr>\n",
       "    <tr>\n",
       "      <th>2</th>\n",
       "      <td>3</td>\n",
       "      <td>1</td>\n",
       "      <td>56708</td>\n",
       "      <td>39</td>\n",
       "      <td>50.0</td>\n",
       "      <td>-3</td>\n",
       "      <td>NaN</td>\n",
       "      <td>0.0</td>\n",
       "      <td>NaN</td>\n",
       "      <td>Yes</td>\n",
       "      <td>...</td>\n",
       "      <td>1995</td>\n",
       "      <td>25.0</td>\n",
       "      <td>1.000</td>\n",
       "      <td>28</td>\n",
       "      <td>NaN</td>\n",
       "      <td>0.0</td>\n",
       "      <td>1</td>\n",
       "      <td>153179.0</td>\n",
       "      <td>8</td>\n",
       "      <td>0</td>\n",
       "    </tr>\n",
       "    <tr>\n",
       "      <th>3</th>\n",
       "      <td>4</td>\n",
       "      <td>0</td>\n",
       "      <td>43551</td>\n",
       "      <td>76</td>\n",
       "      <td>NaN</td>\n",
       "      <td>0</td>\n",
       "      <td>NaN</td>\n",
       "      <td>0.0</td>\n",
       "      <td>NaN</td>\n",
       "      <td>No</td>\n",
       "      <td>...</td>\n",
       "      <td>1997</td>\n",
       "      <td>0.0</td>\n",
       "      <td>NaN</td>\n",
       "      <td>26</td>\n",
       "      <td>NaN</td>\n",
       "      <td>NaN</td>\n",
       "      <td>2</td>\n",
       "      <td>181589.0</td>\n",
       "      <td>6</td>\n",
       "      <td>0</td>\n",
       "    </tr>\n",
       "    <tr>\n",
       "      <th>4</th>\n",
       "      <td>5</td>\n",
       "      <td>3</td>\n",
       "      <td>15287</td>\n",
       "      <td>23</td>\n",
       "      <td>33.0</td>\n",
       "      <td>11</td>\n",
       "      <td>NaN</td>\n",
       "      <td>0.0</td>\n",
       "      <td>NaN</td>\n",
       "      <td>Yes</td>\n",
       "      <td>...</td>\n",
       "      <td>1995</td>\n",
       "      <td>19.0</td>\n",
       "      <td>0.375</td>\n",
       "      <td>28</td>\n",
       "      <td>NaN</td>\n",
       "      <td>NaN</td>\n",
       "      <td>1</td>\n",
       "      <td>10661.0</td>\n",
       "      <td>8</td>\n",
       "      <td>0</td>\n",
       "    </tr>\n",
       "    <tr>\n",
       "      <th>...</th>\n",
       "      <td>...</td>\n",
       "      <td>...</td>\n",
       "      <td>...</td>\n",
       "      <td>...</td>\n",
       "      <td>...</td>\n",
       "      <td>...</td>\n",
       "      <td>...</td>\n",
       "      <td>...</td>\n",
       "      <td>...</td>\n",
       "      <td>...</td>\n",
       "      <td>...</td>\n",
       "      <td>...</td>\n",
       "      <td>...</td>\n",
       "      <td>...</td>\n",
       "      <td>...</td>\n",
       "      <td>...</td>\n",
       "      <td>...</td>\n",
       "      <td>...</td>\n",
       "      <td>...</td>\n",
       "      <td>...</td>\n",
       "      <td>...</td>\n",
       "    </tr>\n",
       "    <tr>\n",
       "      <th>81248</th>\n",
       "      <td>81249</td>\n",
       "      <td>1</td>\n",
       "      <td>34938</td>\n",
       "      <td>100</td>\n",
       "      <td>100.0</td>\n",
       "      <td>3</td>\n",
       "      <td>NaN</td>\n",
       "      <td>NaN</td>\n",
       "      <td>NaN</td>\n",
       "      <td>Yes</td>\n",
       "      <td>...</td>\n",
       "      <td>1997</td>\n",
       "      <td>5.0</td>\n",
       "      <td>0.500</td>\n",
       "      <td>26</td>\n",
       "      <td>NaN</td>\n",
       "      <td>NaN</td>\n",
       "      <td>3</td>\n",
       "      <td>134411.0</td>\n",
       "      <td>-7</td>\n",
       "      <td>0</td>\n",
       "    </tr>\n",
       "    <tr>\n",
       "      <th>81249</th>\n",
       "      <td>81250</td>\n",
       "      <td>2</td>\n",
       "      <td>53276</td>\n",
       "      <td>100</td>\n",
       "      <td>100.0</td>\n",
       "      <td>7</td>\n",
       "      <td>NaN</td>\n",
       "      <td>NaN</td>\n",
       "      <td>68609.0</td>\n",
       "      <td>Yes</td>\n",
       "      <td>...</td>\n",
       "      <td>1989</td>\n",
       "      <td>1.0</td>\n",
       "      <td>0.500</td>\n",
       "      <td>34</td>\n",
       "      <td>NaN</td>\n",
       "      <td>NaN</td>\n",
       "      <td>0</td>\n",
       "      <td>11745.0</td>\n",
       "      <td>14</td>\n",
       "      <td>0</td>\n",
       "    </tr>\n",
       "    <tr>\n",
       "      <th>81250</th>\n",
       "      <td>81251</td>\n",
       "      <td>0</td>\n",
       "      <td>38605</td>\n",
       "      <td>100</td>\n",
       "      <td>100.0</td>\n",
       "      <td>-2</td>\n",
       "      <td>NaN</td>\n",
       "      <td>NaN</td>\n",
       "      <td>NaN</td>\n",
       "      <td>Yes</td>\n",
       "      <td>...</td>\n",
       "      <td>1991</td>\n",
       "      <td>0.0</td>\n",
       "      <td>NaN</td>\n",
       "      <td>32</td>\n",
       "      <td>NaN</td>\n",
       "      <td>NaN</td>\n",
       "      <td>1</td>\n",
       "      <td>9367.0</td>\n",
       "      <td>12</td>\n",
       "      <td>0</td>\n",
       "    </tr>\n",
       "    <tr>\n",
       "      <th>81251</th>\n",
       "      <td>81252</td>\n",
       "      <td>2</td>\n",
       "      <td>36472</td>\n",
       "      <td>100</td>\n",
       "      <td>0.0</td>\n",
       "      <td>1</td>\n",
       "      <td>NaN</td>\n",
       "      <td>NaN</td>\n",
       "      <td>NaN</td>\n",
       "      <td>Yes</td>\n",
       "      <td>...</td>\n",
       "      <td>1993</td>\n",
       "      <td>21.0</td>\n",
       "      <td>0.400</td>\n",
       "      <td>30</td>\n",
       "      <td>NaN</td>\n",
       "      <td>NaN</td>\n",
       "      <td>0</td>\n",
       "      <td>10149.0</td>\n",
       "      <td>10</td>\n",
       "      <td>0</td>\n",
       "    </tr>\n",
       "    <tr>\n",
       "      <th>81252</th>\n",
       "      <td>81253</td>\n",
       "      <td>1</td>\n",
       "      <td>68323</td>\n",
       "      <td>100</td>\n",
       "      <td>100.0</td>\n",
       "      <td>10</td>\n",
       "      <td>NaN</td>\n",
       "      <td>NaN</td>\n",
       "      <td>NaN</td>\n",
       "      <td>Yes</td>\n",
       "      <td>...</td>\n",
       "      <td>1982</td>\n",
       "      <td>18.0</td>\n",
       "      <td>0.500</td>\n",
       "      <td>41</td>\n",
       "      <td>NaN</td>\n",
       "      <td>NaN</td>\n",
       "      <td>0</td>\n",
       "      <td>8108.0</td>\n",
       "      <td>21</td>\n",
       "      <td>0</td>\n",
       "    </tr>\n",
       "  </tbody>\n",
       "</table>\n",
       "<p>81253 rows × 22 columns</p>\n",
       "</div>"
      ],
      "text/plain": [
       "       Customer_No  N_Default_L3m  Branch_Code  Max_Utilization  \\\n",
       "0                1              3        61749               38   \n",
       "1                2              1        30831               68   \n",
       "2                3              1        56708               39   \n",
       "3                4              0        43551               76   \n",
       "4                5              3        15287               23   \n",
       "...            ...            ...          ...              ...   \n",
       "81248        81249              1        34938              100   \n",
       "81249        81250              2        53276              100   \n",
       "81250        81251              0        38605              100   \n",
       "81251        81252              2        36472              100   \n",
       "81252        81253              1        68323              100   \n",
       "\n",
       "       Max_Perc_Def_Chg_Pending  N_Family_Member  Max_Ratio_OC_Pending_POS  \\\n",
       "0                         100.0                5                       NaN   \n",
       "1                         100.0                1                       NaN   \n",
       "2                          50.0               -3                       NaN   \n",
       "3                           NaN                0                       NaN   \n",
       "4                          33.0               11                       NaN   \n",
       "...                         ...              ...                       ...   \n",
       "81248                     100.0                3                       NaN   \n",
       "81249                     100.0                7                       NaN   \n",
       "81250                     100.0               -2                       NaN   \n",
       "81251                       0.0                1                       NaN   \n",
       "81252                     100.0               10                       NaN   \n",
       "\n",
       "       N_PosBkt_L3m  CoAp_Income Ever_Default_L12M  ...  Birth_Year  \\\n",
       "0               0.0          NaN               Yes  ...        1977   \n",
       "1               0.0          NaN               Yes  ...        1990   \n",
       "2               0.0          NaN               Yes  ...        1995   \n",
       "3               0.0          NaN                No  ...        1997   \n",
       "4               0.0          NaN               Yes  ...        1995   \n",
       "...             ...          ...               ...  ...         ...   \n",
       "81248           NaN          NaN               Yes  ...        1997   \n",
       "81249           NaN      68609.0               Yes  ...        1989   \n",
       "81250           NaN          NaN               Yes  ...        1991   \n",
       "81251           NaN          NaN               Yes  ...        1993   \n",
       "81252           NaN          NaN               Yes  ...        1982   \n",
       "\n",
       "       Max_DPD_L3m  Perc_Paymode_Cheq_Fail  Age  Total_Field_Trails  \\\n",
       "0             19.0                   0.750   46                 NaN   \n",
       "1              2.0                   0.500   33                 NaN   \n",
       "2             25.0                   1.000   28                 NaN   \n",
       "3              0.0                     NaN   26                 NaN   \n",
       "4             19.0                   0.375   28                 NaN   \n",
       "...            ...                     ...  ...                 ...   \n",
       "81248          5.0                   0.500   26                 NaN   \n",
       "81249          1.0                   0.500   34                 NaN   \n",
       "81250          0.0                     NaN   32                 NaN   \n",
       "81251         21.0                   0.400   30                 NaN   \n",
       "81252         18.0                   0.500   41                 NaN   \n",
       "\n",
       "       Total_Resolved  N_Enq_L9m  Max_Loan_Balance_Others  N_WorkEx_Yr  \\\n",
       "0                 NaN          0                   5527.0           15   \n",
       "1                 NaN          0                  12104.0            2   \n",
       "2                 0.0          1                 153179.0            8   \n",
       "3                 NaN          2                 181589.0            6   \n",
       "4                 NaN          1                  10661.0            8   \n",
       "...               ...        ...                      ...          ...   \n",
       "81248             NaN          3                 134411.0           -7   \n",
       "81249             NaN          0                  11745.0           14   \n",
       "81250             NaN          1                   9367.0           12   \n",
       "81251             NaN          0                  10149.0           10   \n",
       "81252             NaN          0                   8108.0           21   \n",
       "\n",
       "       Target_Flag  \n",
       "0                0  \n",
       "1                0  \n",
       "2                0  \n",
       "3                0  \n",
       "4                0  \n",
       "...            ...  \n",
       "81248            0  \n",
       "81249            0  \n",
       "81250            0  \n",
       "81251            0  \n",
       "81252            0  \n",
       "\n",
       "[81253 rows x 22 columns]"
      ]
     },
     "execution_count": 2,
     "metadata": {},
     "output_type": "execute_result"
    }
   ],
   "source": [
    "# Loading the dataset\n",
    "df=pd.read_csv(\"D:\\IDFC Round 2\\Training data file.csv\")\n",
    "df"
   ]
  },
  {
   "cell_type": "code",
   "execution_count": 3,
   "id": "79926f7a",
   "metadata": {},
   "outputs": [
    {
     "name": "stdout",
     "output_type": "stream",
     "text": [
      "The training dataset contains 81253 rows and 22 columns.\n"
     ]
    }
   ],
   "source": [
    "print(f\"The training dataset contains {df.shape[0]} rows and {df.shape[1]} columns.\")"
   ]
  },
  {
   "cell_type": "markdown",
   "id": "27bfec36",
   "metadata": {},
   "source": [
    "<html>\n",
    "<br>\n",
    "</html>"
   ]
  },
  {
   "cell_type": "code",
   "execution_count": 4,
   "id": "59e3546b",
   "metadata": {},
   "outputs": [],
   "source": [
    "# Before going to statistical part, let's understand the columns given in the dataset.\n",
    "# Understand how these columns will affect the target column."
   ]
  },
  {
   "cell_type": "code",
   "execution_count": 5,
   "id": "62a179a1",
   "metadata": {},
   "outputs": [
    {
     "data": {
      "text/plain": [
       "Index(['Customer_No', 'N_Default_L3m', 'Branch_Code', 'Max_Utilization',\n",
       "       'Max_Perc_Def_Chg_Pending', 'N_Family_Member',\n",
       "       'Max_Ratio_OC_Pending_POS', 'N_PosBkt_L3m', 'CoAp_Income',\n",
       "       'Ever_Default_L12M', 'Perc_Paymode_Online', 'Perc_Repay_Fail',\n",
       "       'Birth_Year', 'Max_DPD_L3m', 'Perc_Paymode_Cheq_Fail', 'Age',\n",
       "       'Total_Field_Trails', 'Total_Resolved', 'N_Enq_L9m',\n",
       "       'Max_Loan_Balance_Others', 'N_WorkEx_Yr', 'Target_Flag'],\n",
       "      dtype='object')"
      ]
     },
     "execution_count": 5,
     "metadata": {},
     "output_type": "execute_result"
    }
   ],
   "source": [
    "df.columns"
   ]
  },
  {
   "cell_type": "markdown",
   "id": "1f0c25cc",
   "metadata": {},
   "source": [
    "<html>\n",
    "    <br>\n",
    "</html>"
   ]
  },
  {
   "cell_type": "markdown",
   "id": "4c215f8f",
   "metadata": {},
   "source": [
    "<!DOCTYPE html>\n",
    "<html lang=\"en\">\n",
    "<body>\n",
    "    <h3>N_Default_L3m </h3> \n",
    "    <p>\n",
    "        This column depicts number of times a particular customer didn't pay his emi in the last three months.\n",
    "    </p>\n",
    "    <br>\n",
    "    <h3>Max_Utilization </h3> \n",
    "    <p>\n",
    "        This column depicts the maximum ratio of outstanding amount of the previous month to current month.\n",
    "    </p>\n",
    "    <br>\n",
    "    <h3> Max_Perc_Def_Chg_Pending </h3> \n",
    "    <p>\n",
    "        This column depicts the maximum percentage of default charges pending.\n",
    "    </p>\n",
    "    <br>\n",
    "    <h3> N_Family_Member </h3> \n",
    "    <p>\n",
    "        Number of members in the family of the customer.\n",
    "    </p>\n",
    "    <br>\n",
    "    <h3> Max_Ratio_OC_Pending_POS </h3> \n",
    "    <p>\n",
    "        Max ratio of overdue charges pending to current month outstanding balance.\n",
    "    </p>\n",
    "    <br>\n",
    "    <h3> N_PosBkt_L3m </h3> \n",
    "    <p>\n",
    "        Number of times customer consecutively defaulted in the last three months.\n",
    "    </p>\n",
    "    <br>\n",
    "    <h3> CoAp_Income </h3> \n",
    "    <p>\n",
    "        Income of co-applicant.\n",
    "    </p>\n",
    "    <br>\n",
    "    <h3> Ever_Default_L12M </h3> \n",
    "    <p>\n",
    "        Has the customer ever defaulted in last 12 months [\"Yes\" or \"NO\"].\n",
    "    </p>\n",
    "    <br>\n",
    "    <h3> Perc_Paymode_Online </h3> \n",
    "    <p>\n",
    "        Percentage of payments that are paid through online modes. \n",
    "    </p>\n",
    "    <br>\n",
    "    <h3> Perc_Repay_Fail </h3> \n",
    "    <p>\n",
    "        Percentage of times repayment failure. \n",
    "    </p>\n",
    "    <br>\n",
    "    <h3> Max_DPD_L3m </h3> \n",
    "    <p>\n",
    "        Max days delay in repayment in last 3 months. \n",
    "    </p>\n",
    "    <br>\n",
    "    <h3> Perc_Paymode_Cheq_Fail </h3> \n",
    "    <p>\n",
    "        Percentage of times repayment mode was cheque and was not cleared. \n",
    "    </p>\n",
    "    <br>\n",
    "    <h3> Age </h3> \n",
    "    <p>\n",
    "        Age of the customer. \n",
    "    </p>\n",
    "    <br>\n",
    "    <h3> Total_Field_Trails </h3> \n",
    "    <p>\n",
    "        Total number of customer visits done by Field representative. \n",
    "    </p>\n",
    "    <br>\n",
    "    <h3> Total_Resolved </h3> \n",
    "    <p>\n",
    "        Number of times resolved through Calling or Field. \n",
    "    </p>\n",
    "    <br>\n",
    "    <h3> N_Enq_L9m </h3> \n",
    "    <p>\n",
    "        Number of times enquires for new loans done by customer in last 9 months. \n",
    "    </p>\n",
    "    <br>\n",
    "    <h3> Max_Loan_Balance_Others </h3> \n",
    "    <p>\n",
    "        Maximum outstanding balance of loans taken other than IDFC. \n",
    "    </p>\n",
    "    <br>\n",
    "    <h3> N_WorkEx_Yr </h3> \n",
    "    <p>\n",
    "        Number of years of work experience. \n",
    "    </p>\n",
    "    <br>\n",
    "    <h3> Target_Flag </h3> \n",
    "    <p>\n",
    "        Probability of a customer not paying EMI in the next month\n",
    "        [customer didn't pay EMI = 1 and customer paid EMI = 0]. \n",
    "    </p>\n",
    "</body>\n",
    "</html>"
   ]
  },
  {
   "cell_type": "markdown",
   "id": "a9b4fc42",
   "metadata": {},
   "source": [
    "<html>\n",
    "<br>\n",
    "</html>"
   ]
  },
  {
   "cell_type": "markdown",
   "id": "b0152fc6",
   "metadata": {},
   "source": [
    "<html>\n",
    "    <p></p>\n",
    "    <h3> Plotting a bar graph to know how many people from each defaulted category pays an emi this month. </h3>\n",
    "    <br>\n",
    "</html>"
   ]
  },
  {
   "cell_type": "code",
   "execution_count": 6,
   "id": "392392f6",
   "metadata": {},
   "outputs": [
    {
     "data": {
      "text/plain": [
       "array([3, 1, 1, ..., 0, 2, 1], dtype=int64)"
      ]
     },
     "execution_count": 6,
     "metadata": {},
     "output_type": "execute_result"
    }
   ],
   "source": [
    "defaulted_category_values=df['N_Default_L3m'].values\n",
    "defaulted_category_values"
   ]
  },
  {
   "cell_type": "code",
   "execution_count": 7,
   "id": "191ed1fb",
   "metadata": {},
   "outputs": [
    {
     "data": {
      "text/plain": [
       "(array([0, 1, 2, 3], dtype=int64),\n",
       " array([24893, 16608, 16971, 22781], dtype=int64))"
      ]
     },
     "execution_count": 7,
     "metadata": {},
     "output_type": "execute_result"
    }
   ],
   "source": [
    "people_in_each_defaulted_category=np.unique(defaulted_category_values,return_counts=True)\n",
    "people_in_each_defaulted_category"
   ]
  },
  {
   "cell_type": "code",
   "execution_count": 8,
   "id": "550efff4",
   "metadata": {},
   "outputs": [],
   "source": [
    "times_defaulted_in_last_three_months_paid_emi=df['N_Default_L3m'].loc[df['Target_Flag']==0].values"
   ]
  },
  {
   "cell_type": "code",
   "execution_count": 9,
   "id": "a670f90c",
   "metadata": {},
   "outputs": [
    {
     "data": {
      "text/plain": [
       "(array([0, 1, 2, 3], dtype=int64),\n",
       " array([23034, 14524, 14233, 19678], dtype=int64))"
      ]
     },
     "execution_count": 9,
     "metadata": {},
     "output_type": "execute_result"
    }
   ],
   "source": [
    "temp_array=np.unique(times_defaulted_in_last_three_months_paid_emi,return_counts=True)\n",
    "temp_array"
   ]
  },
  {
   "cell_type": "code",
   "execution_count": 10,
   "id": "993b563a",
   "metadata": {},
   "outputs": [
    {
     "data": {
      "image/png": "[encoded data removed]",
      "text/plain": [
       "<Figure size 720x576 with 1 Axes>"
      ]
     },
     "metadata": {
      "needs_background": "light"
     },
     "output_type": "display_data"
    }
   ],
   "source": [
    "plt.figure(figsize=(10,8))\n",
    "plt.bar(temp_array[0],temp_array[1]/people_in_each_defaulted_category[1]*100)\n",
    "plt.xlabel('Number of times a customer defaulted emi in last 3 months ----------------->')\n",
    "plt.ylabel('Percentage of people from each category who will pay this month\\'s emi')\n",
    "plt.show()"
   ]
  },
  {
   "cell_type": "code",
   "execution_count": 11,
   "id": "97872f2b",
   "metadata": {},
   "outputs": [],
   "source": [
    "# From the above bar graph we can say that people from various defaulted categories have almost \n",
    "# same probability of paying an emi this month"
   ]
  },
  {
   "cell_type": "markdown",
   "id": "4da92353",
   "metadata": {},
   "source": [
    "<html>\n",
    "<br>\n",
    "</html>"
   ]
  },
  {
   "cell_type": "code",
   "execution_count": 12,
   "id": "4b0b7207",
   "metadata": {},
   "outputs": [],
   "source": [
    "total_utilization_values=df['Max_Utilization'].values"
   ]
  },
  {
   "cell_type": "code",
   "execution_count": 13,
   "id": "94860462",
   "metadata": {},
   "outputs": [
    {
     "data": {
      "text/plain": [
       "(array([ 17,  18,  19,  22,  23,  24,  25,  26,  27,  28,  29,  30,  31,\n",
       "         32,  33,  34,  35,  36,  37,  38,  39,  40,  41,  42,  43,  44,\n",
       "         45,  46,  47,  48,  49,  50,  51,  52,  53,  54,  55,  56,  57,\n",
       "         58,  59,  60,  61,  62,  63,  64,  65,  66,  67,  68,  69,  70,\n",
       "         71,  72,  73,  74,  75,  76,  77,  78,  79,  80,  81,  82,  83,\n",
       "         84,  85,  86,  87,  88,  89,  90,  91,  92,  93,  94,  95,  96,\n",
       "        100], dtype=int64),\n",
       " array([   15,     9,     1,     4,    92,     2,    13,   195,    72,\n",
       "           22,   196,    26,    81,   277,    23,    80,   805,     7,\n",
       "            2,   494,  4871,    13,    57,   343,    15,  1769,   140,\n",
       "          596,   325,     6,    15,     6,  7148,  2826,     8,    16,\n",
       "           10,   302,   973,  1273,    76,    98,    74,   340,   956,\n",
       "         6927,   329,   139,  3021,  1640,    30,    10,   112,  1329,\n",
       "           79,   283,    28,  8688,    48,    11,  1141,    62,   363,\n",
       "            4,   374,  4122,    32,   786,    63,  8165,   163,   941,\n",
       "          745,   132,    60,     7,    20,    17, 16710], dtype=int64))"
      ]
     },
     "execution_count": 13,
     "metadata": {},
     "output_type": "execute_result"
    }
   ],
   "source": [
    "temp_array=np.unique(total_utilization_values,return_counts=True)\n",
    "temp_array"
   ]
  },
  {
   "cell_type": "code",
   "execution_count": 14,
   "id": "bbd78c13",
   "metadata": {},
   "outputs": [],
   "source": [
    "max_utilization_values_emi_paid=df['Max_Utilization'].loc[df['Target_Flag']==0].values"
   ]
  },
  {
   "cell_type": "code",
   "execution_count": 15,
   "id": "af31649d",
   "metadata": {},
   "outputs": [
    {
     "data": {
      "text/plain": [
       "(array([ 17,  18,  19,  22,  23,  24,  25,  26,  27,  28,  29,  30,  31,\n",
       "         32,  33,  34,  35,  36,  37,  38,  39,  40,  41,  42,  43,  44,\n",
       "         45,  46,  47,  48,  49,  50,  51,  52,  53,  54,  55,  56,  57,\n",
       "         58,  59,  60,  61,  62,  63,  64,  65,  66,  67,  68,  69,  70,\n",
       "         71,  72,  73,  74,  75,  76,  77,  78,  79,  80,  81,  82,  83,\n",
       "         84,  85,  86,  87,  88,  89,  90,  91,  92,  93,  94,  95,  96,\n",
       "        100], dtype=int64),\n",
       " array([   14,     8,     1,     4,    86,     2,    13,   180,    67,\n",
       "           21,   181,    23,    73,   251,    20,    73,   709,     7,\n",
       "            2,   441,  4230,    12,    53,   315,    11,  1554,   125,\n",
       "          523,   291,     5,    14,     4,  6177,  2550,     7,    14,\n",
       "            9,   268,   858,  1117,    67,    87,    70,   311,   835,\n",
       "         6126,   301,   128,  2617,  1468,    29,     9,    98,  1178,\n",
       "           74,   265,    25,  7719,    43,    10,  1029,    60,   333,\n",
       "            4,   338,  3568,    30,   696,    62,  7221,   144,   847,\n",
       "          666,   125,    59,     7,    19,    15, 14473], dtype=int64))"
      ]
     },
     "execution_count": 15,
     "metadata": {},
     "output_type": "execute_result"
    }
   ],
   "source": [
    "temp_array2=np.unique(max_utilization_values_emi_paid,return_counts=True)\n",
    "temp_array2"
   ]
  },
  {
   "cell_type": "code",
   "execution_count": 16,
   "id": "26ffa3cc",
   "metadata": {},
   "outputs": [
    {
     "data": {
      "image/png": "[encoded data removed]",
      "text/plain": [
       "<Figure size 1080x576 with 1 Axes>"
      ]
     },
     "metadata": {
      "needs_background": "light"
     },
     "output_type": "display_data"
    }
   ],
   "source": [
    "plt.figure(figsize=(15,8))\n",
    "plt.bar(temp_array2[0],temp_array2[1]/temp_array[1]*100)\n",
    "plt.xlabel('Maximum utility ----------------->')\n",
    "plt.ylabel('Percentage of people having a particular utiliy will pay this month\\'s emi')\n",
    "plt.show()"
   ]
  },
  {
   "cell_type": "markdown",
   "id": "1cc293cd",
   "metadata": {},
   "source": [
    "<html>\n",
    "<br>\n",
    "</html>"
   ]
  },
  {
   "cell_type": "markdown",
   "id": "bb286e45",
   "metadata": {},
   "source": [
    "<html>\n",
    "    <br>\n",
    "</html>"
   ]
  },
  {
   "cell_type": "code",
   "execution_count": 17,
   "id": "fa9b50e9",
   "metadata": {},
   "outputs": [
    {
     "name": "stdout",
     "output_type": "stream",
     "text": [
      "(array([-5, -4, -3, -2, -1,  0,  1,  2,  3,  4,  5,  6,  7,  8,  9, 10, 11],\n",
      "      dtype=int64), array([4865, 4834, 4792, 4805, 4693, 4711, 4715, 4779, 4716, 4720, 4910,\n",
      "       4727, 4821, 4874, 4740, 4785, 4766], dtype=int64))\n"
     ]
    }
   ],
   "source": [
    "# Let's see the values in the column N_Family_Member\n",
    "arr=df['N_Family_Member'].values\n",
    "arr_value_counts=np.unique(arr,return_counts=True)\n",
    "print(arr_value_counts)"
   ]
  },
  {
   "cell_type": "code",
   "execution_count": 18,
   "id": "535bf13b",
   "metadata": {},
   "outputs": [
    {
     "data": {
      "text/plain": [
       "array([ 5,  1,  3, ...,  2,  1, 10], dtype=int64)"
      ]
     },
     "execution_count": 18,
     "metadata": {},
     "output_type": "execute_result"
    }
   ],
   "source": [
    "# We can see negative values in count of family number which is not possible. So lets change the sign for the negatively count.\n",
    "for i in range(len(arr)):\n",
    "    if arr[i]<0:\n",
    "        arr[i]=-1*arr[i]\n",
    "arr"
   ]
  },
  {
   "cell_type": "code",
   "execution_count": 19,
   "id": "f34fddd4",
   "metadata": {},
   "outputs": [
    {
     "name": "stdout",
     "output_type": "stream",
     "text": [
      "(array([ 0,  1,  2,  3,  4,  5,  6,  7,  8,  9, 10, 11], dtype=int64), array([4711, 9408, 9584, 9508, 9554, 9775, 4727, 4821, 4874, 4740, 4785,\n",
      "       4766], dtype=int64))\n"
     ]
    }
   ],
   "source": [
    "arr_value_counts=np.unique(arr,return_counts=True)\n",
    "print(arr_value_counts)"
   ]
  },
  {
   "cell_type": "code",
   "execution_count": 20,
   "id": "51e37244",
   "metadata": {},
   "outputs": [
    {
     "data": {
      "text/plain": [
       "0"
      ]
     },
     "execution_count": 20,
     "metadata": {},
     "output_type": "execute_result"
    }
   ],
   "source": [
    "df['N_Family_Member'].loc[df['N_Family_Member']<0].sum()"
   ]
  },
  {
   "cell_type": "markdown",
   "id": "196538ba",
   "metadata": {},
   "source": [
    "<html>\n",
    "    <br>\n",
    "</html>"
   ]
  },
  {
   "cell_type": "code",
   "execution_count": 21,
   "id": "0ec4f803",
   "metadata": {},
   "outputs": [
    {
     "data": {
      "text/html": [
       "<div>\n",
       "<style scoped>\n",
       "    .dataframe tbody tr th:only-of-type {\n",
       "        vertical-align: middle;\n",
       "    }\n",
       "\n",
       "    .dataframe tbody tr th {\n",
       "        vertical-align: top;\n",
       "    }\n",
       "\n",
       "    .dataframe thead th {\n",
       "        text-align: right;\n",
       "    }\n",
       "</style>\n",
       "<table border=\"1\" class=\"dataframe\">\n",
       "  <thead>\n",
       "    <tr style=\"text-align: right;\">\n",
       "      <th></th>\n",
       "      <th>Customer_No</th>\n",
       "      <th>N_Default_L3m</th>\n",
       "      <th>Branch_Code</th>\n",
       "      <th>Max_Utilization</th>\n",
       "      <th>Max_Perc_Def_Chg_Pending</th>\n",
       "      <th>N_Family_Member</th>\n",
       "      <th>Max_Ratio_OC_Pending_POS</th>\n",
       "      <th>N_PosBkt_L3m</th>\n",
       "      <th>CoAp_Income</th>\n",
       "      <th>Perc_Paymode_Online</th>\n",
       "      <th>...</th>\n",
       "      <th>Birth_Year</th>\n",
       "      <th>Max_DPD_L3m</th>\n",
       "      <th>Perc_Paymode_Cheq_Fail</th>\n",
       "      <th>Age</th>\n",
       "      <th>Total_Field_Trails</th>\n",
       "      <th>Total_Resolved</th>\n",
       "      <th>N_Enq_L9m</th>\n",
       "      <th>Max_Loan_Balance_Others</th>\n",
       "      <th>N_WorkEx_Yr</th>\n",
       "      <th>Target_Flag</th>\n",
       "    </tr>\n",
       "  </thead>\n",
       "  <tbody>\n",
       "    <tr>\n",
       "      <th>Customer_No</th>\n",
       "      <td>1.00</td>\n",
       "      <td>-0.12</td>\n",
       "      <td>0.00</td>\n",
       "      <td>0.58</td>\n",
       "      <td>0.04</td>\n",
       "      <td>0.00</td>\n",
       "      <td>-0.23</td>\n",
       "      <td>-0.05</td>\n",
       "      <td>-0.00</td>\n",
       "      <td>-0.05</td>\n",
       "      <td>...</td>\n",
       "      <td>0.02</td>\n",
       "      <td>-0.08</td>\n",
       "      <td>-0.17</td>\n",
       "      <td>-0.02</td>\n",
       "      <td>-0.12</td>\n",
       "      <td>-0.08</td>\n",
       "      <td>-0.03</td>\n",
       "      <td>-0.04</td>\n",
       "      <td>-0.02</td>\n",
       "      <td>0.03</td>\n",
       "    </tr>\n",
       "    <tr>\n",
       "      <th>N_Default_L3m</th>\n",
       "      <td>-0.12</td>\n",
       "      <td>1.00</td>\n",
       "      <td>-0.00</td>\n",
       "      <td>-0.18</td>\n",
       "      <td>0.09</td>\n",
       "      <td>0.01</td>\n",
       "      <td>0.12</td>\n",
       "      <td>0.09</td>\n",
       "      <td>0.02</td>\n",
       "      <td>0.62</td>\n",
       "      <td>...</td>\n",
       "      <td>-0.01</td>\n",
       "      <td>0.65</td>\n",
       "      <td>0.19</td>\n",
       "      <td>0.01</td>\n",
       "      <td>0.19</td>\n",
       "      <td>0.37</td>\n",
       "      <td>-0.03</td>\n",
       "      <td>-0.03</td>\n",
       "      <td>0.00</td>\n",
       "      <td>0.08</td>\n",
       "    </tr>\n",
       "    <tr>\n",
       "      <th>Branch_Code</th>\n",
       "      <td>0.00</td>\n",
       "      <td>-0.00</td>\n",
       "      <td>1.00</td>\n",
       "      <td>0.00</td>\n",
       "      <td>0.00</td>\n",
       "      <td>0.00</td>\n",
       "      <td>0.02</td>\n",
       "      <td>0.00</td>\n",
       "      <td>0.02</td>\n",
       "      <td>-0.00</td>\n",
       "      <td>...</td>\n",
       "      <td>-0.00</td>\n",
       "      <td>-0.00</td>\n",
       "      <td>-0.01</td>\n",
       "      <td>0.00</td>\n",
       "      <td>0.00</td>\n",
       "      <td>-0.00</td>\n",
       "      <td>0.00</td>\n",
       "      <td>0.00</td>\n",
       "      <td>-0.01</td>\n",
       "      <td>0.00</td>\n",
       "    </tr>\n",
       "    <tr>\n",
       "      <th>Max_Utilization</th>\n",
       "      <td>0.58</td>\n",
       "      <td>-0.18</td>\n",
       "      <td>0.00</td>\n",
       "      <td>1.00</td>\n",
       "      <td>0.06</td>\n",
       "      <td>-0.00</td>\n",
       "      <td>-0.45</td>\n",
       "      <td>-0.06</td>\n",
       "      <td>0.01</td>\n",
       "      <td>-0.07</td>\n",
       "      <td>...</td>\n",
       "      <td>0.02</td>\n",
       "      <td>-0.12</td>\n",
       "      <td>-0.25</td>\n",
       "      <td>-0.02</td>\n",
       "      <td>-0.21</td>\n",
       "      <td>-0.10</td>\n",
       "      <td>0.06</td>\n",
       "      <td>-0.02</td>\n",
       "      <td>-0.02</td>\n",
       "      <td>0.01</td>\n",
       "    </tr>\n",
       "    <tr>\n",
       "      <th>Max_Perc_Def_Chg_Pending</th>\n",
       "      <td>0.04</td>\n",
       "      <td>0.09</td>\n",
       "      <td>0.00</td>\n",
       "      <td>0.06</td>\n",
       "      <td>1.00</td>\n",
       "      <td>0.01</td>\n",
       "      <td>0.10</td>\n",
       "      <td>0.01</td>\n",
       "      <td>0.00</td>\n",
       "      <td>0.15</td>\n",
       "      <td>...</td>\n",
       "      <td>-0.02</td>\n",
       "      <td>0.05</td>\n",
       "      <td>0.24</td>\n",
       "      <td>0.02</td>\n",
       "      <td>0.09</td>\n",
       "      <td>0.05</td>\n",
       "      <td>-0.08</td>\n",
       "      <td>-0.05</td>\n",
       "      <td>0.01</td>\n",
       "      <td>0.04</td>\n",
       "    </tr>\n",
       "    <tr>\n",
       "      <th>N_Family_Member</th>\n",
       "      <td>0.00</td>\n",
       "      <td>0.01</td>\n",
       "      <td>0.00</td>\n",
       "      <td>-0.00</td>\n",
       "      <td>0.01</td>\n",
       "      <td>1.00</td>\n",
       "      <td>0.02</td>\n",
       "      <td>0.00</td>\n",
       "      <td>0.02</td>\n",
       "      <td>0.01</td>\n",
       "      <td>...</td>\n",
       "      <td>-0.00</td>\n",
       "      <td>-0.00</td>\n",
       "      <td>0.01</td>\n",
       "      <td>0.00</td>\n",
       "      <td>0.00</td>\n",
       "      <td>-0.01</td>\n",
       "      <td>-0.00</td>\n",
       "      <td>0.00</td>\n",
       "      <td>-0.00</td>\n",
       "      <td>0.00</td>\n",
       "    </tr>\n",
       "    <tr>\n",
       "      <th>Max_Ratio_OC_Pending_POS</th>\n",
       "      <td>-0.23</td>\n",
       "      <td>0.12</td>\n",
       "      <td>0.02</td>\n",
       "      <td>-0.45</td>\n",
       "      <td>0.10</td>\n",
       "      <td>0.02</td>\n",
       "      <td>1.00</td>\n",
       "      <td>0.14</td>\n",
       "      <td>-0.03</td>\n",
       "      <td>0.06</td>\n",
       "      <td>...</td>\n",
       "      <td>-0.01</td>\n",
       "      <td>-0.04</td>\n",
       "      <td>0.10</td>\n",
       "      <td>0.01</td>\n",
       "      <td>0.08</td>\n",
       "      <td>0.05</td>\n",
       "      <td>-0.08</td>\n",
       "      <td>-0.03</td>\n",
       "      <td>0.01</td>\n",
       "      <td>0.01</td>\n",
       "    </tr>\n",
       "    <tr>\n",
       "      <th>N_PosBkt_L3m</th>\n",
       "      <td>-0.05</td>\n",
       "      <td>0.09</td>\n",
       "      <td>0.00</td>\n",
       "      <td>-0.06</td>\n",
       "      <td>0.01</td>\n",
       "      <td>0.00</td>\n",
       "      <td>0.14</td>\n",
       "      <td>1.00</td>\n",
       "      <td>0.01</td>\n",
       "      <td>0.05</td>\n",
       "      <td>...</td>\n",
       "      <td>-0.00</td>\n",
       "      <td>0.08</td>\n",
       "      <td>0.04</td>\n",
       "      <td>0.00</td>\n",
       "      <td>0.06</td>\n",
       "      <td>-0.01</td>\n",
       "      <td>-0.00</td>\n",
       "      <td>0.00</td>\n",
       "      <td>0.00</td>\n",
       "      <td>0.07</td>\n",
       "    </tr>\n",
       "    <tr>\n",
       "      <th>CoAp_Income</th>\n",
       "      <td>-0.00</td>\n",
       "      <td>0.02</td>\n",
       "      <td>0.02</td>\n",
       "      <td>0.01</td>\n",
       "      <td>0.00</td>\n",
       "      <td>0.02</td>\n",
       "      <td>-0.03</td>\n",
       "      <td>0.01</td>\n",
       "      <td>1.00</td>\n",
       "      <td>0.03</td>\n",
       "      <td>...</td>\n",
       "      <td>0.03</td>\n",
       "      <td>0.03</td>\n",
       "      <td>0.03</td>\n",
       "      <td>-0.03</td>\n",
       "      <td>0.06</td>\n",
       "      <td>0.02</td>\n",
       "      <td>0.00</td>\n",
       "      <td>-0.02</td>\n",
       "      <td>-0.03</td>\n",
       "      <td>0.01</td>\n",
       "    </tr>\n",
       "    <tr>\n",
       "      <th>Perc_Paymode_Online</th>\n",
       "      <td>-0.05</td>\n",
       "      <td>0.62</td>\n",
       "      <td>-0.00</td>\n",
       "      <td>-0.07</td>\n",
       "      <td>0.15</td>\n",
       "      <td>0.01</td>\n",
       "      <td>0.06</td>\n",
       "      <td>0.05</td>\n",
       "      <td>0.03</td>\n",
       "      <td>1.00</td>\n",
       "      <td>...</td>\n",
       "      <td>-0.03</td>\n",
       "      <td>0.56</td>\n",
       "      <td>0.54</td>\n",
       "      <td>0.03</td>\n",
       "      <td>0.46</td>\n",
       "      <td>0.05</td>\n",
       "      <td>-0.04</td>\n",
       "      <td>-0.04</td>\n",
       "      <td>0.01</td>\n",
       "      <td>0.09</td>\n",
       "    </tr>\n",
       "    <tr>\n",
       "      <th>Perc_Repay_Fail</th>\n",
       "      <td>-0.08</td>\n",
       "      <td>0.92</td>\n",
       "      <td>0.00</td>\n",
       "      <td>-0.12</td>\n",
       "      <td>0.16</td>\n",
       "      <td>0.01</td>\n",
       "      <td>0.14</td>\n",
       "      <td>0.11</td>\n",
       "      <td>0.03</td>\n",
       "      <td>0.72</td>\n",
       "      <td>...</td>\n",
       "      <td>-0.01</td>\n",
       "      <td>0.69</td>\n",
       "      <td>0.61</td>\n",
       "      <td>0.01</td>\n",
       "      <td>0.42</td>\n",
       "      <td>0.26</td>\n",
       "      <td>-0.03</td>\n",
       "      <td>-0.03</td>\n",
       "      <td>0.00</td>\n",
       "      <td>0.10</td>\n",
       "    </tr>\n",
       "    <tr>\n",
       "      <th>Birth_Year</th>\n",
       "      <td>0.02</td>\n",
       "      <td>-0.01</td>\n",
       "      <td>-0.00</td>\n",
       "      <td>0.02</td>\n",
       "      <td>-0.02</td>\n",
       "      <td>-0.00</td>\n",
       "      <td>-0.01</td>\n",
       "      <td>-0.00</td>\n",
       "      <td>0.03</td>\n",
       "      <td>-0.03</td>\n",
       "      <td>...</td>\n",
       "      <td>1.00</td>\n",
       "      <td>-0.00</td>\n",
       "      <td>-0.03</td>\n",
       "      <td>-1.00</td>\n",
       "      <td>0.02</td>\n",
       "      <td>-0.03</td>\n",
       "      <td>0.13</td>\n",
       "      <td>-0.09</td>\n",
       "      <td>-0.54</td>\n",
       "      <td>0.04</td>\n",
       "    </tr>\n",
       "    <tr>\n",
       "      <th>Max_DPD_L3m</th>\n",
       "      <td>-0.08</td>\n",
       "      <td>0.65</td>\n",
       "      <td>-0.00</td>\n",
       "      <td>-0.12</td>\n",
       "      <td>0.05</td>\n",
       "      <td>-0.00</td>\n",
       "      <td>-0.04</td>\n",
       "      <td>0.08</td>\n",
       "      <td>0.03</td>\n",
       "      <td>0.56</td>\n",
       "      <td>...</td>\n",
       "      <td>-0.00</td>\n",
       "      <td>1.00</td>\n",
       "      <td>0.19</td>\n",
       "      <td>0.00</td>\n",
       "      <td>0.18</td>\n",
       "      <td>-0.32</td>\n",
       "      <td>0.01</td>\n",
       "      <td>-0.01</td>\n",
       "      <td>0.00</td>\n",
       "      <td>0.17</td>\n",
       "    </tr>\n",
       "    <tr>\n",
       "      <th>Perc_Paymode_Cheq_Fail</th>\n",
       "      <td>-0.17</td>\n",
       "      <td>0.19</td>\n",
       "      <td>-0.01</td>\n",
       "      <td>-0.25</td>\n",
       "      <td>0.24</td>\n",
       "      <td>0.01</td>\n",
       "      <td>0.10</td>\n",
       "      <td>0.04</td>\n",
       "      <td>0.03</td>\n",
       "      <td>0.54</td>\n",
       "      <td>...</td>\n",
       "      <td>-0.03</td>\n",
       "      <td>0.19</td>\n",
       "      <td>1.00</td>\n",
       "      <td>0.03</td>\n",
       "      <td>0.49</td>\n",
       "      <td>-0.02</td>\n",
       "      <td>-0.06</td>\n",
       "      <td>-0.00</td>\n",
       "      <td>0.02</td>\n",
       "      <td>0.03</td>\n",
       "    </tr>\n",
       "    <tr>\n",
       "      <th>Age</th>\n",
       "      <td>-0.02</td>\n",
       "      <td>0.01</td>\n",
       "      <td>0.00</td>\n",
       "      <td>-0.02</td>\n",
       "      <td>0.02</td>\n",
       "      <td>0.00</td>\n",
       "      <td>0.01</td>\n",
       "      <td>0.00</td>\n",
       "      <td>-0.03</td>\n",
       "      <td>0.03</td>\n",
       "      <td>...</td>\n",
       "      <td>-1.00</td>\n",
       "      <td>0.00</td>\n",
       "      <td>0.03</td>\n",
       "      <td>1.00</td>\n",
       "      <td>-0.02</td>\n",
       "      <td>0.03</td>\n",
       "      <td>-0.13</td>\n",
       "      <td>0.09</td>\n",
       "      <td>0.54</td>\n",
       "      <td>-0.04</td>\n",
       "    </tr>\n",
       "    <tr>\n",
       "      <th>Total_Field_Trails</th>\n",
       "      <td>-0.12</td>\n",
       "      <td>0.19</td>\n",
       "      <td>0.00</td>\n",
       "      <td>-0.21</td>\n",
       "      <td>0.09</td>\n",
       "      <td>0.00</td>\n",
       "      <td>0.08</td>\n",
       "      <td>0.06</td>\n",
       "      <td>0.06</td>\n",
       "      <td>0.46</td>\n",
       "      <td>...</td>\n",
       "      <td>0.02</td>\n",
       "      <td>0.18</td>\n",
       "      <td>0.49</td>\n",
       "      <td>-0.02</td>\n",
       "      <td>1.00</td>\n",
       "      <td>0.17</td>\n",
       "      <td>-0.06</td>\n",
       "      <td>-0.02</td>\n",
       "      <td>-0.02</td>\n",
       "      <td>0.10</td>\n",
       "    </tr>\n",
       "    <tr>\n",
       "      <th>Total_Resolved</th>\n",
       "      <td>-0.08</td>\n",
       "      <td>0.37</td>\n",
       "      <td>-0.00</td>\n",
       "      <td>-0.10</td>\n",
       "      <td>0.05</td>\n",
       "      <td>-0.01</td>\n",
       "      <td>0.05</td>\n",
       "      <td>-0.01</td>\n",
       "      <td>0.02</td>\n",
       "      <td>0.05</td>\n",
       "      <td>...</td>\n",
       "      <td>-0.03</td>\n",
       "      <td>-0.32</td>\n",
       "      <td>-0.02</td>\n",
       "      <td>0.03</td>\n",
       "      <td>0.17</td>\n",
       "      <td>1.00</td>\n",
       "      <td>-0.03</td>\n",
       "      <td>-0.01</td>\n",
       "      <td>0.02</td>\n",
       "      <td>-0.14</td>\n",
       "    </tr>\n",
       "    <tr>\n",
       "      <th>N_Enq_L9m</th>\n",
       "      <td>-0.03</td>\n",
       "      <td>-0.03</td>\n",
       "      <td>0.00</td>\n",
       "      <td>0.06</td>\n",
       "      <td>-0.08</td>\n",
       "      <td>-0.00</td>\n",
       "      <td>-0.08</td>\n",
       "      <td>-0.00</td>\n",
       "      <td>0.00</td>\n",
       "      <td>-0.04</td>\n",
       "      <td>...</td>\n",
       "      <td>0.13</td>\n",
       "      <td>0.01</td>\n",
       "      <td>-0.06</td>\n",
       "      <td>-0.13</td>\n",
       "      <td>-0.06</td>\n",
       "      <td>-0.03</td>\n",
       "      <td>1.00</td>\n",
       "      <td>0.05</td>\n",
       "      <td>-0.08</td>\n",
       "      <td>0.05</td>\n",
       "    </tr>\n",
       "    <tr>\n",
       "      <th>Max_Loan_Balance_Others</th>\n",
       "      <td>-0.04</td>\n",
       "      <td>-0.03</td>\n",
       "      <td>0.00</td>\n",
       "      <td>-0.02</td>\n",
       "      <td>-0.05</td>\n",
       "      <td>0.00</td>\n",
       "      <td>-0.03</td>\n",
       "      <td>0.00</td>\n",
       "      <td>-0.02</td>\n",
       "      <td>-0.04</td>\n",
       "      <td>...</td>\n",
       "      <td>-0.09</td>\n",
       "      <td>-0.01</td>\n",
       "      <td>-0.00</td>\n",
       "      <td>0.09</td>\n",
       "      <td>-0.02</td>\n",
       "      <td>-0.01</td>\n",
       "      <td>0.05</td>\n",
       "      <td>1.00</td>\n",
       "      <td>0.05</td>\n",
       "      <td>-0.01</td>\n",
       "    </tr>\n",
       "    <tr>\n",
       "      <th>N_WorkEx_Yr</th>\n",
       "      <td>-0.02</td>\n",
       "      <td>0.00</td>\n",
       "      <td>-0.01</td>\n",
       "      <td>-0.02</td>\n",
       "      <td>0.01</td>\n",
       "      <td>-0.00</td>\n",
       "      <td>0.01</td>\n",
       "      <td>0.00</td>\n",
       "      <td>-0.03</td>\n",
       "      <td>0.01</td>\n",
       "      <td>...</td>\n",
       "      <td>-0.54</td>\n",
       "      <td>0.00</td>\n",
       "      <td>0.02</td>\n",
       "      <td>0.54</td>\n",
       "      <td>-0.02</td>\n",
       "      <td>0.02</td>\n",
       "      <td>-0.08</td>\n",
       "      <td>0.05</td>\n",
       "      <td>1.00</td>\n",
       "      <td>-0.02</td>\n",
       "    </tr>\n",
       "    <tr>\n",
       "      <th>Target_Flag</th>\n",
       "      <td>0.03</td>\n",
       "      <td>0.08</td>\n",
       "      <td>0.00</td>\n",
       "      <td>0.01</td>\n",
       "      <td>0.04</td>\n",
       "      <td>0.00</td>\n",
       "      <td>0.01</td>\n",
       "      <td>0.07</td>\n",
       "      <td>0.01</td>\n",
       "      <td>0.09</td>\n",
       "      <td>...</td>\n",
       "      <td>0.04</td>\n",
       "      <td>0.17</td>\n",
       "      <td>0.03</td>\n",
       "      <td>-0.04</td>\n",
       "      <td>0.10</td>\n",
       "      <td>-0.14</td>\n",
       "      <td>0.05</td>\n",
       "      <td>-0.01</td>\n",
       "      <td>-0.02</td>\n",
       "      <td>1.00</td>\n",
       "    </tr>\n",
       "  </tbody>\n",
       "</table>\n",
       "<p>21 rows × 21 columns</p>\n",
       "</div>"
      ],
      "text/plain": [
       "                          Customer_No  N_Default_L3m  Branch_Code  \\\n",
       "Customer_No                      1.00          -0.12         0.00   \n",
       "N_Default_L3m                   -0.12           1.00        -0.00   \n",
       "Branch_Code                      0.00          -0.00         1.00   \n",
       "Max_Utilization                  0.58          -0.18         0.00   \n",
       "Max_Perc_Def_Chg_Pending         0.04           0.09         0.00   \n",
       "N_Family_Member                  0.00           0.01         0.00   \n",
       "Max_Ratio_OC_Pending_POS        -0.23           0.12         0.02   \n",
       "N_PosBkt_L3m                    -0.05           0.09         0.00   \n",
       "CoAp_Income                     -0.00           0.02         0.02   \n",
       "Perc_Paymode_Online             -0.05           0.62        -0.00   \n",
       "Perc_Repay_Fail                 -0.08           0.92         0.00   \n",
       "Birth_Year                       0.02          -0.01        -0.00   \n",
       "Max_DPD_L3m                     -0.08           0.65        -0.00   \n",
       "Perc_Paymode_Cheq_Fail          -0.17           0.19        -0.01   \n",
       "Age                             -0.02           0.01         0.00   \n",
       "Total_Field_Trails              -0.12           0.19         0.00   \n",
       "Total_Resolved                  -0.08           0.37        -0.00   \n",
       "N_Enq_L9m                       -0.03          -0.03         0.00   \n",
       "Max_Loan_Balance_Others         -0.04          -0.03         0.00   \n",
       "N_WorkEx_Yr                     -0.02           0.00        -0.01   \n",
       "Target_Flag                      0.03           0.08         0.00   \n",
       "\n",
       "                          Max_Utilization  Max_Perc_Def_Chg_Pending  \\\n",
       "Customer_No                          0.58                      0.04   \n",
       "N_Default_L3m                       -0.18                      0.09   \n",
       "Branch_Code                          0.00                      0.00   \n",
       "Max_Utilization                      1.00                      0.06   \n",
       "Max_Perc_Def_Chg_Pending             0.06                      1.00   \n",
       "N_Family_Member                     -0.00                      0.01   \n",
       "Max_Ratio_OC_Pending_POS            -0.45                      0.10   \n",
       "N_PosBkt_L3m                        -0.06                      0.01   \n",
       "CoAp_Income                          0.01                      0.00   \n",
       "Perc_Paymode_Online                 -0.07                      0.15   \n",
       "Perc_Repay_Fail                     -0.12                      0.16   \n",
       "Birth_Year                           0.02                     -0.02   \n",
       "Max_DPD_L3m                         -0.12                      0.05   \n",
       "Perc_Paymode_Cheq_Fail              -0.25                      0.24   \n",
       "Age                                 -0.02                      0.02   \n",
       "Total_Field_Trails                  -0.21                      0.09   \n",
       "Total_Resolved                      -0.10                      0.05   \n",
       "N_Enq_L9m                            0.06                     -0.08   \n",
       "Max_Loan_Balance_Others             -0.02                     -0.05   \n",
       "N_WorkEx_Yr                         -0.02                      0.01   \n",
       "Target_Flag                          0.01                      0.04   \n",
       "\n",
       "                          N_Family_Member  Max_Ratio_OC_Pending_POS  \\\n",
       "Customer_No                          0.00                     -0.23   \n",
       "N_Default_L3m                        0.01                      0.12   \n",
       "Branch_Code                          0.00                      0.02   \n",
       "Max_Utilization                     -0.00                     -0.45   \n",
       "Max_Perc_Def_Chg_Pending             0.01                      0.10   \n",
       "N_Family_Member                      1.00                      0.02   \n",
       "Max_Ratio_OC_Pending_POS             0.02                      1.00   \n",
       "N_PosBkt_L3m                         0.00                      0.14   \n",
       "CoAp_Income                          0.02                     -0.03   \n",
       "Perc_Paymode_Online                  0.01                      0.06   \n",
       "Perc_Repay_Fail                      0.01                      0.14   \n",
       "Birth_Year                          -0.00                     -0.01   \n",
       "Max_DPD_L3m                         -0.00                     -0.04   \n",
       "Perc_Paymode_Cheq_Fail               0.01                      0.10   \n",
       "Age                                  0.00                      0.01   \n",
       "Total_Field_Trails                   0.00                      0.08   \n",
       "Total_Resolved                      -0.01                      0.05   \n",
       "N_Enq_L9m                           -0.00                     -0.08   \n",
       "Max_Loan_Balance_Others              0.00                     -0.03   \n",
       "N_WorkEx_Yr                         -0.00                      0.01   \n",
       "Target_Flag                          0.00                      0.01   \n",
       "\n",
       "                          N_PosBkt_L3m  CoAp_Income  Perc_Paymode_Online  ...  \\\n",
       "Customer_No                      -0.05        -0.00                -0.05  ...   \n",
       "N_Default_L3m                     0.09         0.02                 0.62  ...   \n",
       "Branch_Code                       0.00         0.02                -0.00  ...   \n",
       "Max_Utilization                  -0.06         0.01                -0.07  ...   \n",
       "Max_Perc_Def_Chg_Pending          0.01         0.00                 0.15  ...   \n",
       "N_Family_Member                   0.00         0.02                 0.01  ...   \n",
       "Max_Ratio_OC_Pending_POS          0.14        -0.03                 0.06  ...   \n",
       "N_PosBkt_L3m                      1.00         0.01                 0.05  ...   \n",
       "CoAp_Income                       0.01         1.00                 0.03  ...   \n",
       "Perc_Paymode_Online               0.05         0.03                 1.00  ...   \n",
       "Perc_Repay_Fail                   0.11         0.03                 0.72  ...   \n",
       "Birth_Year                       -0.00         0.03                -0.03  ...   \n",
       "Max_DPD_L3m                       0.08         0.03                 0.56  ...   \n",
       "Perc_Paymode_Cheq_Fail            0.04         0.03                 0.54  ...   \n",
       "Age                               0.00        -0.03                 0.03  ...   \n",
       "Total_Field_Trails                0.06         0.06                 0.46  ...   \n",
       "Total_Resolved                   -0.01         0.02                 0.05  ...   \n",
       "N_Enq_L9m                        -0.00         0.00                -0.04  ...   \n",
       "Max_Loan_Balance_Others           0.00        -0.02                -0.04  ...   \n",
       "N_WorkEx_Yr                       0.00        -0.03                 0.01  ...   \n",
       "Target_Flag                       0.07         0.01                 0.09  ...   \n",
       "\n",
       "                          Birth_Year  Max_DPD_L3m  Perc_Paymode_Cheq_Fail  \\\n",
       "Customer_No                     0.02        -0.08                   -0.17   \n",
       "N_Default_L3m                  -0.01         0.65                    0.19   \n",
       "Branch_Code                    -0.00        -0.00                   -0.01   \n",
       "Max_Utilization                 0.02        -0.12                   -0.25   \n",
       "Max_Perc_Def_Chg_Pending       -0.02         0.05                    0.24   \n",
       "N_Family_Member                -0.00        -0.00                    0.01   \n",
       "Max_Ratio_OC_Pending_POS       -0.01        -0.04                    0.10   \n",
       "N_PosBkt_L3m                   -0.00         0.08                    0.04   \n",
       "CoAp_Income                     0.03         0.03                    0.03   \n",
       "Perc_Paymode_Online            -0.03         0.56                    0.54   \n",
       "Perc_Repay_Fail                -0.01         0.69                    0.61   \n",
       "Birth_Year                      1.00        -0.00                   -0.03   \n",
       "Max_DPD_L3m                    -0.00         1.00                    0.19   \n",
       "Perc_Paymode_Cheq_Fail         -0.03         0.19                    1.00   \n",
       "Age                            -1.00         0.00                    0.03   \n",
       "Total_Field_Trails              0.02         0.18                    0.49   \n",
       "Total_Resolved                 -0.03        -0.32                   -0.02   \n",
       "N_Enq_L9m                       0.13         0.01                   -0.06   \n",
       "Max_Loan_Balance_Others        -0.09        -0.01                   -0.00   \n",
       "N_WorkEx_Yr                    -0.54         0.00                    0.02   \n",
       "Target_Flag                     0.04         0.17                    0.03   \n",
       "\n",
       "                           Age  Total_Field_Trails  Total_Resolved  N_Enq_L9m  \\\n",
       "Customer_No              -0.02               -0.12           -0.08      -0.03   \n",
       "N_Default_L3m             0.01                0.19            0.37      -0.03   \n",
       "Branch_Code               0.00                0.00           -0.00       0.00   \n",
       "Max_Utilization          -0.02               -0.21           -0.10       0.06   \n",
       "Max_Perc_Def_Chg_Pending  0.02                0.09            0.05      -0.08   \n",
       "N_Family_Member           0.00                0.00           -0.01      -0.00   \n",
       "Max_Ratio_OC_Pending_POS  0.01                0.08            0.05      -0.08   \n",
       "N_PosBkt_L3m              0.00                0.06           -0.01      -0.00   \n",
       "CoAp_Income              -0.03                0.06            0.02       0.00   \n",
       "Perc_Paymode_Online       0.03                0.46            0.05      -0.04   \n",
       "Perc_Repay_Fail           0.01                0.42            0.26      -0.03   \n",
       "Birth_Year               -1.00                0.02           -0.03       0.13   \n",
       "Max_DPD_L3m               0.00                0.18           -0.32       0.01   \n",
       "Perc_Paymode_Cheq_Fail    0.03                0.49           -0.02      -0.06   \n",
       "Age                       1.00               -0.02            0.03      -0.13   \n",
       "Total_Field_Trails       -0.02                1.00            0.17      -0.06   \n",
       "Total_Resolved            0.03                0.17            1.00      -0.03   \n",
       "N_Enq_L9m                -0.13               -0.06           -0.03       1.00   \n",
       "Max_Loan_Balance_Others   0.09               -0.02           -0.01       0.05   \n",
       "N_WorkEx_Yr               0.54               -0.02            0.02      -0.08   \n",
       "Target_Flag              -0.04                0.10           -0.14       0.05   \n",
       "\n",
       "                          Max_Loan_Balance_Others  N_WorkEx_Yr  Target_Flag  \n",
       "Customer_No                                 -0.04        -0.02         0.03  \n",
       "N_Default_L3m                               -0.03         0.00         0.08  \n",
       "Branch_Code                                  0.00        -0.01         0.00  \n",
       "Max_Utilization                             -0.02        -0.02         0.01  \n",
       "Max_Perc_Def_Chg_Pending                    -0.05         0.01         0.04  \n",
       "N_Family_Member                              0.00        -0.00         0.00  \n",
       "Max_Ratio_OC_Pending_POS                    -0.03         0.01         0.01  \n",
       "N_PosBkt_L3m                                 0.00         0.00         0.07  \n",
       "CoAp_Income                                 -0.02        -0.03         0.01  \n",
       "Perc_Paymode_Online                         -0.04         0.01         0.09  \n",
       "Perc_Repay_Fail                             -0.03         0.00         0.10  \n",
       "Birth_Year                                  -0.09        -0.54         0.04  \n",
       "Max_DPD_L3m                                 -0.01         0.00         0.17  \n",
       "Perc_Paymode_Cheq_Fail                      -0.00         0.02         0.03  \n",
       "Age                                          0.09         0.54        -0.04  \n",
       "Total_Field_Trails                          -0.02        -0.02         0.10  \n",
       "Total_Resolved                              -0.01         0.02        -0.14  \n",
       "N_Enq_L9m                                    0.05        -0.08         0.05  \n",
       "Max_Loan_Balance_Others                      1.00         0.05        -0.01  \n",
       "N_WorkEx_Yr                                  0.05         1.00        -0.02  \n",
       "Target_Flag                                 -0.01        -0.02         1.00  \n",
       "\n",
       "[21 rows x 21 columns]"
      ]
     },
     "execution_count": 21,
     "metadata": {},
     "output_type": "execute_result"
    }
   ],
   "source": [
    "matrix=df.corr().round(2)\n",
    "matrix"
   ]
  },
  {
   "cell_type": "code",
   "execution_count": 22,
   "id": "653e147e",
   "metadata": {},
   "outputs": [
    {
     "data": {
      "image/png": "[encoded data removed]",
      "text/plain": [
       "<Figure size 1080x720 with 2 Axes>"
      ]
     },
     "metadata": {
      "needs_background": "light"
     },
     "output_type": "display_data"
    }
   ],
   "source": [
    "plt.figure(figsize=(15,10))\n",
    "sns.heatmap(matrix,annot=True)\n",
    "plt.show()"
   ]
  },
  {
   "cell_type": "markdown",
   "id": "16d55b40",
   "metadata": {},
   "source": [
    "<html>\n",
    "<br>\n",
    "</html>"
   ]
  },
  {
   "cell_type": "markdown",
   "id": "1c7ee2ae",
   "metadata": {},
   "source": [
    "<html>\n",
    "    <p></p>\n",
    "    <h3> Removing unwnated columns from dataframe. </h3>\n",
    "    <br>\n",
    "</html>"
   ]
  },
  {
   "cell_type": "code",
   "execution_count": 23,
   "id": "49b75cfa",
   "metadata": {},
   "outputs": [],
   "source": [
    "# As we can see from the correlation matrix plot that there are no two columns which are highly correlated.\n",
    "# So we are gonna consider all columns except the \"Birth Year\" column as we are having a derived column \"Age\" which can be derived \n",
    "# from Birth Year.\n",
    "# We are gonna drop the columns Customer_No,Branch_Code as well, Because they doesnot contribute anything to the target."
   ]
  },
  {
   "cell_type": "code",
   "execution_count": 24,
   "id": "d841460e",
   "metadata": {},
   "outputs": [],
   "source": [
    "df=df.drop(columns=['Customer_No','Branch_Code','Birth_Year'])"
   ]
  },
  {
   "cell_type": "code",
   "execution_count": 25,
   "id": "f1267439",
   "metadata": {},
   "outputs": [
    {
     "name": "stdout",
     "output_type": "stream",
     "text": [
      "<class 'pandas.core.frame.DataFrame'>\n",
      "RangeIndex: 81253 entries, 0 to 81252\n",
      "Data columns (total 19 columns):\n",
      " #   Column                    Non-Null Count  Dtype  \n",
      "---  ------                    --------------  -----  \n",
      " 0   N_Default_L3m             81253 non-null  int64  \n",
      " 1   Max_Utilization           81253 non-null  int64  \n",
      " 2   Max_Perc_Def_Chg_Pending  60175 non-null  float64\n",
      " 3   N_Family_Member           81253 non-null  int64  \n",
      " 4   Max_Ratio_OC_Pending_POS  8607 non-null   float64\n",
      " 5   N_PosBkt_L3m              75915 non-null  float64\n",
      " 6   CoAp_Income               4118 non-null   float64\n",
      " 7   Ever_Default_L12M         81253 non-null  object \n",
      " 8   Perc_Paymode_Online       81253 non-null  float64\n",
      " 9   Perc_Repay_Fail           81253 non-null  float64\n",
      " 10  Max_DPD_L3m               81010 non-null  float64\n",
      " 11  Perc_Paymode_Cheq_Fail    57776 non-null  float64\n",
      " 12  Age                       81253 non-null  int64  \n",
      " 13  Total_Field_Trails        26541 non-null  float64\n",
      " 14  Total_Resolved            30948 non-null  float64\n",
      " 15  N_Enq_L9m                 81253 non-null  int64  \n",
      " 16  Max_Loan_Balance_Others   80912 non-null  float64\n",
      " 17  N_WorkEx_Yr               81253 non-null  int64  \n",
      " 18  Target_Flag               81253 non-null  int64  \n",
      "dtypes: float64(11), int64(7), object(1)\n",
      "memory usage: 11.8+ MB\n"
     ]
    }
   ],
   "source": [
    "df.info()"
   ]
  },
  {
   "cell_type": "code",
   "execution_count": 26,
   "id": "fa4a6ad8",
   "metadata": {},
   "outputs": [],
   "source": [
    "# Now, Let's see percentage of null values in each column\n",
    "columns=np.array(list(df.columns))\n",
    "Null_Values_Each_Column=[]\n",
    "for column in columns:\n",
    "    Null_Values_Each_Column.append(df[column].isnull().sum())\n",
    "Null_Values_Each_Column=np.array(Null_Values_Each_Column)\n",
    "Percentage_Null_Values=Null_Values_Each_Column/df.shape[0]"
   ]
  },
  {
   "cell_type": "markdown",
   "id": "df3d8f46",
   "metadata": {},
   "source": [
    "<html>\n",
    "    <br>\n",
    "</html>"
   ]
  },
  {
   "cell_type": "code",
   "execution_count": 27,
   "id": "fed17130",
   "metadata": {},
   "outputs": [
    {
     "data": {
      "image/png": "[encoded data removed]",
      "text/plain": [
       "<Figure size 720x720 with 1 Axes>"
      ]
     },
     "metadata": {
      "needs_background": "light"
     },
     "output_type": "display_data"
    },
    {
     "data": {
      "text/plain": [
       "{'N_Default_L3m': 0.0,\n",
       " 'Max_Utilization': 0.0,\n",
       " 'Max_Perc_Def_Chg_Pending': 0.2594119601737782,\n",
       " 'N_Family_Member': 0.0,\n",
       " 'Max_Ratio_OC_Pending_POS': 0.8940716035100242,\n",
       " 'N_PosBkt_L3m': 0.06569603583867673,\n",
       " 'CoAp_Income': 0.9493187943829766,\n",
       " 'Ever_Default_L12M': 0.0,\n",
       " 'Perc_Paymode_Online': 0.0,\n",
       " 'Perc_Repay_Fail': 0.0,\n",
       " 'Max_DPD_L3m': 0.0029906588064440697,\n",
       " 'Perc_Paymode_Cheq_Fail': 0.28893702386373427,\n",
       " 'Age': 0.0,\n",
       " 'Total_Field_Trails': 0.6733535992517199,\n",
       " 'Total_Resolved': 0.6191156018854689,\n",
       " 'N_Enq_L9m': 0.0,\n",
       " 'Max_Loan_Balance_Others': 0.004196768119330978,\n",
       " 'N_WorkEx_Yr': 0.0,\n",
       " 'Target_Flag': 0.0}"
      ]
     },
     "execution_count": 27,
     "metadata": {},
     "output_type": "execute_result"
    }
   ],
   "source": [
    "# Plotting percentage of null values in each column\n",
    "plt.figure(figsize=(10,10))\n",
    "plt.barh(columns,Percentage_Null_Values)\n",
    "plt.xlabel('Null value percentage --------------->')\n",
    "plt.ylabel('Columns------------->')\n",
    "plt.show()\n",
    "\n",
    "dictionary=dict(zip(columns,Percentage_Null_Values))\n",
    "dictionary"
   ]
  },
  {
   "cell_type": "code",
   "execution_count": 28,
   "id": "c6702b2f",
   "metadata": {},
   "outputs": [],
   "source": [
    "# From the above bar graph, We can see that there are many columns having null value percentage above 50%.\n",
    "# Columns like \"Max_Ratio_OC_Pending_POS\" and \"CoAp_Income\" are having null values more than 90% of null values so we can ignore them.\n",
    "# And few columns like \"Total_Field_Trails\",\"Total_Resolved\" among them are really important to taken care of them (instead of dropping values)\n",
    "# So I am considering the KNN approaching for imputing the NULL values"
   ]
  },
  {
   "cell_type": "code",
   "execution_count": 29,
   "id": "1b6d51a8",
   "metadata": {},
   "outputs": [],
   "source": [
    "df=df.drop(columns=['Max_Ratio_OC_Pending_POS','CoAp_Income'])"
   ]
  },
  {
   "cell_type": "code",
   "execution_count": 30,
   "id": "095710fc",
   "metadata": {},
   "outputs": [
    {
     "name": "stdout",
     "output_type": "stream",
     "text": [
      "<class 'pandas.core.frame.DataFrame'>\n",
      "RangeIndex: 81253 entries, 0 to 81252\n",
      "Data columns (total 17 columns):\n",
      " #   Column                    Non-Null Count  Dtype  \n",
      "---  ------                    --------------  -----  \n",
      " 0   N_Default_L3m             81253 non-null  int64  \n",
      " 1   Max_Utilization           81253 non-null  int64  \n",
      " 2   Max_Perc_Def_Chg_Pending  60175 non-null  float64\n",
      " 3   N_Family_Member           81253 non-null  int64  \n",
      " 4   N_PosBkt_L3m              75915 non-null  float64\n",
      " 5   Ever_Default_L12M         81253 non-null  object \n",
      " 6   Perc_Paymode_Online       81253 non-null  float64\n",
      " 7   Perc_Repay_Fail           81253 non-null  float64\n",
      " 8   Max_DPD_L3m               81010 non-null  float64\n",
      " 9   Perc_Paymode_Cheq_Fail    57776 non-null  float64\n",
      " 10  Age                       81253 non-null  int64  \n",
      " 11  Total_Field_Trails        26541 non-null  float64\n",
      " 12  Total_Resolved            30948 non-null  float64\n",
      " 13  N_Enq_L9m                 81253 non-null  int64  \n",
      " 14  Max_Loan_Balance_Others   80912 non-null  float64\n",
      " 15  N_WorkEx_Yr               81253 non-null  int64  \n",
      " 16  Target_Flag               81253 non-null  int64  \n",
      "dtypes: float64(9), int64(7), object(1)\n",
      "memory usage: 10.5+ MB\n"
     ]
    }
   ],
   "source": [
    "df.info()"
   ]
  },
  {
   "cell_type": "markdown",
   "id": "55f8f3bd",
   "metadata": {},
   "source": [
    "<html>\n",
    "<br>\n",
    "</html>"
   ]
  },
  {
   "cell_type": "markdown",
   "id": "aadcd4a4",
   "metadata": {},
   "source": [
    "<html>\n",
    "    <p></p>\n",
    "    <h3>Let's convert the columns having string to numerical data</h3>\n",
    "    <br>\n",
    "</html>"
   ]
  },
  {
   "cell_type": "code",
   "execution_count": 31,
   "id": "e8c97066",
   "metadata": {},
   "outputs": [],
   "source": [
    "# We have got only one column i.e., \"Ever_Default_L12M\" to convert the string/object to categorical/numerical data."
   ]
  },
  {
   "cell_type": "code",
   "execution_count": 32,
   "id": "0fa2b711",
   "metadata": {},
   "outputs": [],
   "source": [
    "encoder=LabelEncoder()\n",
    "object_columns_values=df['Ever_Default_L12M'].values\n",
    "oject_columns_values_transformed=encoder.fit_transform(object_columns_values)"
   ]
  },
  {
   "cell_type": "code",
   "execution_count": 33,
   "id": "244e448b",
   "metadata": {},
   "outputs": [
    {
     "data": {
      "text/plain": [
       "Yes    64364\n",
       "No     16889\n",
       "Name: Ever_Default_L12M, dtype: int64"
      ]
     },
     "execution_count": 33,
     "metadata": {},
     "output_type": "execute_result"
    }
   ],
   "source": [
    "df['Ever_Default_L12M'].value_counts()"
   ]
  },
  {
   "cell_type": "code",
   "execution_count": 34,
   "id": "0f5fdbfc",
   "metadata": {},
   "outputs": [],
   "source": [
    "df['Ever_Default_L12M']=oject_columns_values_transformed"
   ]
  },
  {
   "cell_type": "code",
   "execution_count": 35,
   "id": "87f61d4a",
   "metadata": {},
   "outputs": [
    {
     "data": {
      "text/plain": [
       "1    64364\n",
       "0    16889\n",
       "Name: Ever_Default_L12M, dtype: int64"
      ]
     },
     "execution_count": 35,
     "metadata": {},
     "output_type": "execute_result"
    }
   ],
   "source": [
    "df['Ever_Default_L12M'].value_counts()"
   ]
  },
  {
   "cell_type": "markdown",
   "id": "0d836a64",
   "metadata": {},
   "source": [
    "<html>\n",
    "    <p></p>\n",
    "    <h3> Filling the null values in the dataframe. </h3>\n",
    "    <br>\n",
    "</html>"
   ]
  },
  {
   "cell_type": "code",
   "execution_count": 36,
   "id": "61f5f782",
   "metadata": {},
   "outputs": [
    {
     "name": "stdout",
     "output_type": "stream",
     "text": [
      "<class 'pandas.core.frame.DataFrame'>\n",
      "RangeIndex: 81253 entries, 0 to 81252\n",
      "Data columns (total 17 columns):\n",
      " #   Column                    Non-Null Count  Dtype  \n",
      "---  ------                    --------------  -----  \n",
      " 0   N_Default_L3m             81253 non-null  int64  \n",
      " 1   Max_Utilization           81253 non-null  int64  \n",
      " 2   Max_Perc_Def_Chg_Pending  60175 non-null  float64\n",
      " 3   N_Family_Member           81253 non-null  int64  \n",
      " 4   N_PosBkt_L3m              75915 non-null  float64\n",
      " 5   Ever_Default_L12M         81253 non-null  int32  \n",
      " 6   Perc_Paymode_Online       81253 non-null  float64\n",
      " 7   Perc_Repay_Fail           81253 non-null  float64\n",
      " 8   Max_DPD_L3m               81010 non-null  float64\n",
      " 9   Perc_Paymode_Cheq_Fail    57776 non-null  float64\n",
      " 10  Age                       81253 non-null  int64  \n",
      " 11  Total_Field_Trails        26541 non-null  float64\n",
      " 12  Total_Resolved            30948 non-null  float64\n",
      " 13  N_Enq_L9m                 81253 non-null  int64  \n",
      " 14  Max_Loan_Balance_Others   80912 non-null  float64\n",
      " 15  N_WorkEx_Yr               81253 non-null  int64  \n",
      " 16  Target_Flag               81253 non-null  int64  \n",
      "dtypes: float64(9), int32(1), int64(7)\n",
      "memory usage: 10.2 MB\n"
     ]
    }
   ],
   "source": [
    "df.info()"
   ]
  },
  {
   "cell_type": "code",
   "execution_count": 37,
   "id": "9857a2f6",
   "metadata": {},
   "outputs": [],
   "source": [
    "x=df.iloc[:,:-1].values\n",
    "y=df.iloc[:,-1].values"
   ]
  },
  {
   "cell_type": "code",
   "execution_count": 38,
   "id": "41280f28",
   "metadata": {},
   "outputs": [
    {
     "data": {
      "text/plain": [
       "(81253, 16)"
      ]
     },
     "execution_count": 38,
     "metadata": {},
     "output_type": "execute_result"
    }
   ],
   "source": [
    "x.shape"
   ]
  },
  {
   "cell_type": "code",
   "execution_count": 39,
   "id": "65271bcc",
   "metadata": {},
   "outputs": [
    {
     "data": {
      "text/plain": [
       "(81253,)"
      ]
     },
     "execution_count": 39,
     "metadata": {},
     "output_type": "execute_result"
    }
   ],
   "source": [
    "y.shape"
   ]
  },
  {
   "cell_type": "code",
   "execution_count": 40,
   "id": "959b66d0",
   "metadata": {},
   "outputs": [],
   "source": [
    "imputer=KNNImputer(n_neighbors=285)\n",
    "x=imputer.fit_transform(x)"
   ]
  },
  {
   "cell_type": "code",
   "execution_count": 130,
   "id": "8831444f",
   "metadata": {},
   "outputs": [
    {
     "data": {
      "text/plain": [
       "(array([0, 1], dtype=int64), array([71469,  9784], dtype=int64))"
      ]
     },
     "execution_count": 130,
     "metadata": {},
     "output_type": "execute_result"
    }
   ],
   "source": [
    "z=df.iloc[:,-1].values\n",
    "np.unique(z,return_counts=True)"
   ]
  },
  {
   "cell_type": "markdown",
   "id": "85f80113",
   "metadata": {},
   "source": [
    "<html>\n",
    "    <p></p>\n",
    "    <h3> Making the dataset balanced. </h3>\n",
    "    <br>\n",
    "</html>"
   ]
  },
  {
   "cell_type": "code",
   "execution_count": 41,
   "id": "b8a0b718",
   "metadata": {},
   "outputs": [],
   "source": [
    "smote=SMOTE()"
   ]
  },
  {
   "cell_type": "code",
   "execution_count": 42,
   "id": "4070beff",
   "metadata": {},
   "outputs": [],
   "source": [
    "x,y=smote.fit_resample(x,y)"
   ]
  },
  {
   "cell_type": "code",
   "execution_count": 43,
   "id": "66a30ccc",
   "metadata": {},
   "outputs": [
    {
     "data": {
      "text/plain": [
       "(142938, 16)"
      ]
     },
     "execution_count": 43,
     "metadata": {},
     "output_type": "execute_result"
    }
   ],
   "source": [
    "x.shape"
   ]
  },
  {
   "cell_type": "code",
   "execution_count": 44,
   "id": "f68b6cbb",
   "metadata": {},
   "outputs": [
    {
     "data": {
      "text/plain": [
       "(142938,)"
      ]
     },
     "execution_count": 44,
     "metadata": {},
     "output_type": "execute_result"
    }
   ],
   "source": [
    "y.shape"
   ]
  },
  {
   "cell_type": "code",
   "execution_count": 46,
   "id": "859d515f",
   "metadata": {},
   "outputs": [
    {
     "data": {
      "text/plain": [
       "(array([0, 1], dtype=int64), array([71469, 71469], dtype=int64))"
      ]
     },
     "execution_count": 46,
     "metadata": {},
     "output_type": "execute_result"
    }
   ],
   "source": [
    "np.unique(y,return_counts=True)"
   ]
  },
  {
   "cell_type": "markdown",
   "id": "8f548ac7",
   "metadata": {},
   "source": [
    "<html>\n",
    "<br>\n",
    "</html>"
   ]
  },
  {
   "cell_type": "code",
   "execution_count": 47,
   "id": "eef185ff",
   "metadata": {},
   "outputs": [],
   "source": [
    "x_train,x_test,y_train,y_test=train_test_split(x,y,test_size=0.2,random_state=42)"
   ]
  },
  {
   "cell_type": "code",
   "execution_count": 48,
   "id": "4f8b35c9",
   "metadata": {},
   "outputs": [
    {
     "data": {
      "text/plain": [
       "(array([0, 1], dtype=int64), array([14396, 14192], dtype=int64))"
      ]
     },
     "execution_count": 48,
     "metadata": {},
     "output_type": "execute_result"
    }
   ],
   "source": [
    "np.unique(y_test,return_counts=True)"
   ]
  },
  {
   "cell_type": "markdown",
   "id": "6fb5ec8f",
   "metadata": {},
   "source": [
    "<html>\n",
    "    <br>\n",
    "</html>"
   ]
  },
  {
   "cell_type": "code",
   "execution_count": 49,
   "id": "34022305",
   "metadata": {},
   "outputs": [
    {
     "data": {
      "text/plain": [
       "(114350, 16)"
      ]
     },
     "execution_count": 49,
     "metadata": {},
     "output_type": "execute_result"
    }
   ],
   "source": [
    "x_train.shape"
   ]
  },
  {
   "cell_type": "code",
   "execution_count": 50,
   "id": "9718d371",
   "metadata": {},
   "outputs": [
    {
     "data": {
      "text/plain": [
       "(114350,)"
      ]
     },
     "execution_count": 50,
     "metadata": {},
     "output_type": "execute_result"
    }
   ],
   "source": [
    "y_train.shape"
   ]
  },
  {
   "cell_type": "code",
   "execution_count": 51,
   "id": "2dcc0db3",
   "metadata": {},
   "outputs": [
    {
     "data": {
      "text/plain": [
       "(array([0, 1], dtype=int64), array([57073, 57277], dtype=int64))"
      ]
     },
     "execution_count": 51,
     "metadata": {},
     "output_type": "execute_result"
    }
   ],
   "source": [
    "np.unique(y_train,return_counts=True)"
   ]
  },
  {
   "cell_type": "markdown",
   "id": "b2f834cb",
   "metadata": {},
   "source": [
    "<html>\n",
    "<br>\n",
    "</html>"
   ]
  },
  {
   "cell_type": "code",
   "execution_count": 52,
   "id": "c706c15e",
   "metadata": {},
   "outputs": [],
   "source": [
    "def print_metrics(y_test,y_pred):\n",
    "    print(\"Accuracy Score: \",accuracy_score(y_test,y_pred))\n",
    "    print(\"Precision Score: \",precision_score(y_test,y_pred))\n",
    "    print(\"recall Score: \",recall_score(y_test,y_pred))"
   ]
  },
  {
   "cell_type": "code",
   "execution_count": 53,
   "id": "71502bf9",
   "metadata": {},
   "outputs": [],
   "source": [
    "def Disp_Confusion_Matrix_train(y_train,y_pred):\n",
    "    cm = confusion_matrix(y_train, y_pred)\n",
    "    disp = ConfusionMatrixDisplay(confusion_matrix=cm, display_labels=['class 0','class 1'])\n",
    "    disp.plot()\n",
    "    plt.title('Training Data Confusion Matrix')\n",
    "    plt.show()\n",
    "    print_metrics(y_train,y_pred)\n",
    "    pass"
   ]
  },
  {
   "cell_type": "code",
   "execution_count": 54,
   "id": "b76fc28a",
   "metadata": {},
   "outputs": [],
   "source": [
    "def Disp_Confusion_Matrix_test(y_test,y_pred):\n",
    "    cm = confusion_matrix(y_test, y_pred)\n",
    "    disp = ConfusionMatrixDisplay(confusion_matrix=cm, display_labels=['class 0','class 1'])\n",
    "    disp.plot()\n",
    "    plt.title('Test Confusion Matrix')\n",
    "    plt.show()\n",
    "    print_metrics(y_test,y_pred)\n",
    "    pass"
   ]
  },
  {
   "cell_type": "markdown",
   "id": "86e5002c",
   "metadata": {},
   "source": [
    "<html>\n",
    "<br>\n",
    "</html>"
   ]
  },
  {
   "cell_type": "code",
   "execution_count": 55,
   "id": "0138a4a3",
   "metadata": {},
   "outputs": [
    {
     "data": {
      "text/plain": [
       "(array([0, 1], dtype=int64), array([14396, 14192], dtype=int64))"
      ]
     },
     "execution_count": 55,
     "metadata": {},
     "output_type": "execute_result"
    }
   ],
   "source": [
    "np.unique(y_test,return_counts=True)"
   ]
  },
  {
   "cell_type": "markdown",
   "id": "f39f05f3",
   "metadata": {},
   "source": [
    "<html>\n",
    "<br>\n",
    "</html>"
   ]
  },
  {
   "cell_type": "markdown",
   "id": "05f3d9e4",
   "metadata": {},
   "source": [
    "<html>\n",
    "    <p></p>\n",
    "    <h3> Building various classification models and training the data </h3>\n",
    "    <br>\n",
    "</html>"
   ]
  },
  {
   "cell_type": "code",
   "execution_count": 56,
   "id": "cb7cc6db",
   "metadata": {},
   "outputs": [],
   "source": [
    "clf=SGDClassifier()"
   ]
  },
  {
   "cell_type": "code",
   "execution_count": 57,
   "id": "ae7e9748",
   "metadata": {},
   "outputs": [
    {
     "data": {
      "text/html": [
       "<style>#sk-container-id-1 {color: black;background-color: white;}#sk-container-id-1 pre{padding: 0;}#sk-container-id-1 div.sk-toggleable {background-color: white;}#sk-container-id-1 label.sk-toggleable__label {cursor: pointer;display: block;width: 100%;margin-bottom: 0;padding: 0.3em;box-sizing: border-box;text-align: center;}#sk-container-id-1 label.sk-toggleable__label-arrow:before {content: \"▸\";float: left;margin-right: 0.25em;color: #696969;}#sk-container-id-1 label.sk-toggleable__label-arrow:hover:before {color: black;}#sk-container-id-1 div.sk-estimator:hover label.sk-toggleable__label-arrow:before {color: black;}#sk-container-id-1 div.sk-toggleable__content {max-height: 0;max-width: 0;overflow: hidden;text-align: left;background-color: #f0f8ff;}#sk-container-id-1 div.sk-toggleable__content pre {margin: 0.2em;color: black;border-radius: 0.25em;background-color: #f0f8ff;}#sk-container-id-1 input.sk-toggleable__control:checked~div.sk-toggleable__content {max-height: 200px;max-width: 100%;overflow: auto;}#sk-container-id-1 input.sk-toggleable__control:checked~label.sk-toggleable__label-arrow:before {content: \"▾\";}#sk-container-id-1 div.sk-estimator input.sk-toggleable__control:checked~label.sk-toggleable__label {background-color: #d4ebff;}#sk-container-id-1 div.sk-label input.sk-toggleable__control:checked~label.sk-toggleable__label {background-color: #d4ebff;}#sk-container-id-1 input.sk-hidden--visually {border: 0;clip: rect(1px 1px 1px 1px);clip: rect(1px, 1px, 1px, 1px);height: 1px;margin: -1px;overflow: hidden;padding: 0;position: absolute;width: 1px;}#sk-container-id-1 div.sk-estimator {font-family: monospace;background-color: #f0f8ff;border: 1px dotted black;border-radius: 0.25em;box-sizing: border-box;margin-bottom: 0.5em;}#sk-container-id-1 div.sk-estimator:hover {background-color: #d4ebff;}#sk-container-id-1 div.sk-parallel-item::after {content: \"\";width: 100%;border-bottom: 1px solid gray;flex-grow: 1;}#sk-container-id-1 div.sk-label:hover label.sk-toggleable__label {background-color: #d4ebff;}#sk-container-id-1 div.sk-serial::before {content: \"\";position: absolute;border-left: 1px solid gray;box-sizing: border-box;top: 0;bottom: 0;left: 50%;z-index: 0;}#sk-container-id-1 div.sk-serial {display: flex;flex-direction: column;align-items: center;background-color: white;padding-right: 0.2em;padding-left: 0.2em;position: relative;}#sk-container-id-1 div.sk-item {position: relative;z-index: 1;}#sk-container-id-1 div.sk-parallel {display: flex;align-items: stretch;justify-content: center;background-color: white;position: relative;}#sk-container-id-1 div.sk-item::before, #sk-container-id-1 div.sk-parallel-item::before {content: \"\";position: absolute;border-left: 1px solid gray;box-sizing: border-box;top: 0;bottom: 0;left: 50%;z-index: -1;}#sk-container-id-1 div.sk-parallel-item {display: flex;flex-direction: column;z-index: 1;position: relative;background-color: white;}#sk-container-id-1 div.sk-parallel-item:first-child::after {align-self: flex-end;width: 50%;}#sk-container-id-1 div.sk-parallel-item:last-child::after {align-self: flex-start;width: 50%;}#sk-container-id-1 div.sk-parallel-item:only-child::after {width: 0;}#sk-container-id-1 div.sk-dashed-wrapped {border: 1px dashed gray;margin: 0 0.4em 0.5em 0.4em;box-sizing: border-box;padding-bottom: 0.4em;background-color: white;}#sk-container-id-1 div.sk-label label {font-family: monospace;font-weight: bold;display: inline-block;line-height: 1.2em;}#sk-container-id-1 div.sk-label-container {text-align: center;}#sk-container-id-1 div.sk-container {/* jupyter's `normalize.less` sets `[hidden] { display: none; }` but bootstrap.min.css set `[hidden] { display: none !important; }` so we also need the `!important` here to be able to override the default hidden behavior on the sphinx rendered scikit-learn.org. See: https://github.com/scikit-learn/scikit-learn/issues/21755 */display: inline-block !important;position: relative;}#sk-container-id-1 div.sk-text-repr-fallback {display: none;}</style><div id=\"sk-container-id-1\" class=\"sk-top-container\"><div class=\"sk-text-repr-fallback\"><pre>SGDClassifier()</pre><b>In a Jupyter environment, please rerun this cell to show the HTML representation or trust the notebook. <br />On GitHub, the HTML representation is unable to render, please try loading this page with nbviewer.org.</b></div><div class=\"sk-container\" hidden><div class=\"sk-item\"><div class=\"sk-estimator sk-toggleable\"><input class=\"sk-toggleable__control sk-hidden--visually\" id=\"sk-estimator-id-1\" type=\"checkbox\" checked><label for=\"sk-estimator-id-1\" class=\"sk-toggleable__label sk-toggleable__label-arrow\">SGDClassifier</label><div class=\"sk-toggleable__content\"><pre>SGDClassifier()</pre></div></div></div></div></div>"
      ],
      "text/plain": [
       "SGDClassifier()"
      ]
     },
     "execution_count": 57,
     "metadata": {},
     "output_type": "execute_result"
    }
   ],
   "source": [
    "clf.fit(x_train,y_train)"
   ]
  },
  {
   "cell_type": "code",
   "execution_count": 58,
   "id": "5d908237",
   "metadata": {},
   "outputs": [
    {
     "data": {
      "text/plain": [
       "array([1, 1, 1, ..., 1, 1, 1], dtype=int64)"
      ]
     },
     "execution_count": 58,
     "metadata": {},
     "output_type": "execute_result"
    }
   ],
   "source": [
    "y_pred=clf.predict(x_test)\n",
    "y_pred"
   ]
  },
  {
   "cell_type": "code",
   "execution_count": 59,
   "id": "24af26d5",
   "metadata": {},
   "outputs": [
    {
     "data": {
      "image/png": "[encoded data removed]",
      "text/plain": [
       "<Figure size 432x288 with 2 Axes>"
      ]
     },
     "metadata": {
      "needs_background": "light"
     },
     "output_type": "display_data"
    },
    {
     "name": "stdout",
     "output_type": "stream",
     "text": [
      "Accuracy Score:  0.5015391073177558\n",
      "Precision Score:  0.4989705360312389\n",
      "recall Score:  0.9904171364148816\n"
     ]
    }
   ],
   "source": [
    "Disp_Confusion_Matrix_test(y_test,y_pred)"
   ]
  },
  {
   "cell_type": "code",
   "execution_count": 60,
   "id": "81e54e55",
   "metadata": {},
   "outputs": [
    {
     "data": {
      "image/png": "[encoded data removed]",
      "text/plain": [
       "<Figure size 432x288 with 2 Axes>"
      ]
     },
     "metadata": {
      "needs_background": "light"
     },
     "output_type": "display_data"
    },
    {
     "name": "stdout",
     "output_type": "stream",
     "text": [
      "Accuracy Score:  0.5064888500218627\n",
      "Precision Score:  0.5037425282463328\n",
      "recall Score:  0.9916895088779091\n"
     ]
    }
   ],
   "source": [
    "Disp_Confusion_Matrix_train(y_train,clf.predict(x_train))"
   ]
  },
  {
   "cell_type": "markdown",
   "id": "7d6bafb9",
   "metadata": {},
   "source": [
    "<html>\n",
    "<br>\n",
    "</html>"
   ]
  },
  {
   "cell_type": "code",
   "execution_count": 61,
   "id": "795a8f54",
   "metadata": {},
   "outputs": [],
   "source": [
    "naive_bayes_model=GaussianNB()"
   ]
  },
  {
   "cell_type": "code",
   "execution_count": 62,
   "id": "a6f0f631",
   "metadata": {},
   "outputs": [
    {
     "data": {
      "text/html": [
       "<style>#sk-container-id-2 {color: black;background-color: white;}#sk-container-id-2 pre{padding: 0;}#sk-container-id-2 div.sk-toggleable {background-color: white;}#sk-container-id-2 label.sk-toggleable__label {cursor: pointer;display: block;width: 100%;margin-bottom: 0;padding: 0.3em;box-sizing: border-box;text-align: center;}#sk-container-id-2 label.sk-toggleable__label-arrow:before {content: \"▸\";float: left;margin-right: 0.25em;color: #696969;}#sk-container-id-2 label.sk-toggleable__label-arrow:hover:before {color: black;}#sk-container-id-2 div.sk-estimator:hover label.sk-toggleable__label-arrow:before {color: black;}#sk-container-id-2 div.sk-toggleable__content {max-height: 0;max-width: 0;overflow: hidden;text-align: left;background-color: #f0f8ff;}#sk-container-id-2 div.sk-toggleable__content pre {margin: 0.2em;color: black;border-radius: 0.25em;background-color: #f0f8ff;}#sk-container-id-2 input.sk-toggleable__control:checked~div.sk-toggleable__content {max-height: 200px;max-width: 100%;overflow: auto;}#sk-container-id-2 input.sk-toggleable__control:checked~label.sk-toggleable__label-arrow:before {content: \"▾\";}#sk-container-id-2 div.sk-estimator input.sk-toggleable__control:checked~label.sk-toggleable__label {background-color: #d4ebff;}#sk-container-id-2 div.sk-label input.sk-toggleable__control:checked~label.sk-toggleable__label {background-color: #d4ebff;}#sk-container-id-2 input.sk-hidden--visually {border: 0;clip: rect(1px 1px 1px 1px);clip: rect(1px, 1px, 1px, 1px);height: 1px;margin: -1px;overflow: hidden;padding: 0;position: absolute;width: 1px;}#sk-container-id-2 div.sk-estimator {font-family: monospace;background-color: #f0f8ff;border: 1px dotted black;border-radius: 0.25em;box-sizing: border-box;margin-bottom: 0.5em;}#sk-container-id-2 div.sk-estimator:hover {background-color: #d4ebff;}#sk-container-id-2 div.sk-parallel-item::after {content: \"\";width: 100%;border-bottom: 1px solid gray;flex-grow: 1;}#sk-container-id-2 div.sk-label:hover label.sk-toggleable__label {background-color: #d4ebff;}#sk-container-id-2 div.sk-serial::before {content: \"\";position: absolute;border-left: 1px solid gray;box-sizing: border-box;top: 0;bottom: 0;left: 50%;z-index: 0;}#sk-container-id-2 div.sk-serial {display: flex;flex-direction: column;align-items: center;background-color: white;padding-right: 0.2em;padding-left: 0.2em;position: relative;}#sk-container-id-2 div.sk-item {position: relative;z-index: 1;}#sk-container-id-2 div.sk-parallel {display: flex;align-items: stretch;justify-content: center;background-color: white;position: relative;}#sk-container-id-2 div.sk-item::before, #sk-container-id-2 div.sk-parallel-item::before {content: \"\";position: absolute;border-left: 1px solid gray;box-sizing: border-box;top: 0;bottom: 0;left: 50%;z-index: -1;}#sk-container-id-2 div.sk-parallel-item {display: flex;flex-direction: column;z-index: 1;position: relative;background-color: white;}#sk-container-id-2 div.sk-parallel-item:first-child::after {align-self: flex-end;width: 50%;}#sk-container-id-2 div.sk-parallel-item:last-child::after {align-self: flex-start;width: 50%;}#sk-container-id-2 div.sk-parallel-item:only-child::after {width: 0;}#sk-container-id-2 div.sk-dashed-wrapped {border: 1px dashed gray;margin: 0 0.4em 0.5em 0.4em;box-sizing: border-box;padding-bottom: 0.4em;background-color: white;}#sk-container-id-2 div.sk-label label {font-family: monospace;font-weight: bold;display: inline-block;line-height: 1.2em;}#sk-container-id-2 div.sk-label-container {text-align: center;}#sk-container-id-2 div.sk-container {/* jupyter's `normalize.less` sets `[hidden] { display: none; }` but bootstrap.min.css set `[hidden] { display: none !important; }` so we also need the `!important` here to be able to override the default hidden behavior on the sphinx rendered scikit-learn.org. See: https://github.com/scikit-learn/scikit-learn/issues/21755 */display: inline-block !important;position: relative;}#sk-container-id-2 div.sk-text-repr-fallback {display: none;}</style><div id=\"sk-container-id-2\" class=\"sk-top-container\"><div class=\"sk-text-repr-fallback\"><pre>GaussianNB()</pre><b>In a Jupyter environment, please rerun this cell to show the HTML representation or trust the notebook. <br />On GitHub, the HTML representation is unable to render, please try loading this page with nbviewer.org.</b></div><div class=\"sk-container\" hidden><div class=\"sk-item\"><div class=\"sk-estimator sk-toggleable\"><input class=\"sk-toggleable__control sk-hidden--visually\" id=\"sk-estimator-id-2\" type=\"checkbox\" checked><label for=\"sk-estimator-id-2\" class=\"sk-toggleable__label sk-toggleable__label-arrow\">GaussianNB</label><div class=\"sk-toggleable__content\"><pre>GaussianNB()</pre></div></div></div></div></div>"
      ],
      "text/plain": [
       "GaussianNB()"
      ]
     },
     "execution_count": 62,
     "metadata": {},
     "output_type": "execute_result"
    }
   ],
   "source": [
    "naive_bayes_model.fit(x_train,y_train)"
   ]
  },
  {
   "cell_type": "code",
   "execution_count": 63,
   "id": "d1c6e225",
   "metadata": {},
   "outputs": [
    {
     "data": {
      "text/plain": [
       "array([1, 1, 1, ..., 1, 1, 1], dtype=int64)"
      ]
     },
     "execution_count": 63,
     "metadata": {},
     "output_type": "execute_result"
    }
   ],
   "source": [
    "y_pred_nb=naive_bayes_model.predict(x_test)\n",
    "y_pred_nb"
   ]
  },
  {
   "cell_type": "code",
   "execution_count": 64,
   "id": "f216b4ca",
   "metadata": {},
   "outputs": [
    {
     "data": {
      "text/plain": [
       "(array([0, 1], dtype=int64), array([ 3620, 24968], dtype=int64))"
      ]
     },
     "execution_count": 64,
     "metadata": {},
     "output_type": "execute_result"
    }
   ],
   "source": [
    "np.unique(y_pred_nb,return_counts=True)"
   ]
  },
  {
   "cell_type": "code",
   "execution_count": 65,
   "id": "ba1a71a5",
   "metadata": {},
   "outputs": [
    {
     "data": {
      "image/png": "[encoded data removed]",
      "text/plain": [
       "<Figure size 432x288 with 2 Axes>"
      ]
     },
     "metadata": {
      "needs_background": "light"
     },
     "output_type": "display_data"
    },
    {
     "name": "stdout",
     "output_type": "stream",
     "text": [
      "Accuracy Score:  0.5226668532251294\n",
      "Precision Score:  0.5109339955142582\n",
      "recall Score:  0.8988866967305524\n"
     ]
    }
   ],
   "source": [
    "Disp_Confusion_Matrix_test(y_test,y_pred_nb)"
   ]
  },
  {
   "cell_type": "code",
   "execution_count": 66,
   "id": "16b63da3",
   "metadata": {},
   "outputs": [
    {
     "data": {
      "image/png": "[encoded data removed]",
      "text/plain": [
       "<Figure size 432x288 with 2 Axes>"
      ]
     },
     "metadata": {
      "needs_background": "light"
     },
     "output_type": "display_data"
    },
    {
     "name": "stdout",
     "output_type": "stream",
     "text": [
      "Accuracy Score:  0.5286051595977262\n",
      "Precision Score:  0.5168989669235162\n",
      "recall Score:  0.9006407458491192\n"
     ]
    }
   ],
   "source": [
    "Disp_Confusion_Matrix_train(y_train,naive_bayes_model.predict(x_train))"
   ]
  },
  {
   "cell_type": "markdown",
   "id": "36962213",
   "metadata": {},
   "source": [
    "<html>\n",
    "    <br>\n",
    "</html>"
   ]
  },
  {
   "cell_type": "code",
   "execution_count": 67,
   "id": "69261a0f",
   "metadata": {},
   "outputs": [],
   "source": [
    "model=LogisticRegression()"
   ]
  },
  {
   "cell_type": "code",
   "execution_count": 68,
   "id": "270c79ae",
   "metadata": {},
   "outputs": [
    {
     "data": {
      "text/html": [
       "<style>#sk-container-id-3 {color: black;background-color: white;}#sk-container-id-3 pre{padding: 0;}#sk-container-id-3 div.sk-toggleable {background-color: white;}#sk-container-id-3 label.sk-toggleable__label {cursor: pointer;display: block;width: 100%;margin-bottom: 0;padding: 0.3em;box-sizing: border-box;text-align: center;}#sk-container-id-3 label.sk-toggleable__label-arrow:before {content: \"▸\";float: left;margin-right: 0.25em;color: #696969;}#sk-container-id-3 label.sk-toggleable__label-arrow:hover:before {color: black;}#sk-container-id-3 div.sk-estimator:hover label.sk-toggleable__label-arrow:before {color: black;}#sk-container-id-3 div.sk-toggleable__content {max-height: 0;max-width: 0;overflow: hidden;text-align: left;background-color: #f0f8ff;}#sk-container-id-3 div.sk-toggleable__content pre {margin: 0.2em;color: black;border-radius: 0.25em;background-color: #f0f8ff;}#sk-container-id-3 input.sk-toggleable__control:checked~div.sk-toggleable__content {max-height: 200px;max-width: 100%;overflow: auto;}#sk-container-id-3 input.sk-toggleable__control:checked~label.sk-toggleable__label-arrow:before {content: \"▾\";}#sk-container-id-3 div.sk-estimator input.sk-toggleable__control:checked~label.sk-toggleable__label {background-color: #d4ebff;}#sk-container-id-3 div.sk-label input.sk-toggleable__control:checked~label.sk-toggleable__label {background-color: #d4ebff;}#sk-container-id-3 input.sk-hidden--visually {border: 0;clip: rect(1px 1px 1px 1px);clip: rect(1px, 1px, 1px, 1px);height: 1px;margin: -1px;overflow: hidden;padding: 0;position: absolute;width: 1px;}#sk-container-id-3 div.sk-estimator {font-family: monospace;background-color: #f0f8ff;border: 1px dotted black;border-radius: 0.25em;box-sizing: border-box;margin-bottom: 0.5em;}#sk-container-id-3 div.sk-estimator:hover {background-color: #d4ebff;}#sk-container-id-3 div.sk-parallel-item::after {content: \"\";width: 100%;border-bottom: 1px solid gray;flex-grow: 1;}#sk-container-id-3 div.sk-label:hover label.sk-toggleable__label {background-color: #d4ebff;}#sk-container-id-3 div.sk-serial::before {content: \"\";position: absolute;border-left: 1px solid gray;box-sizing: border-box;top: 0;bottom: 0;left: 50%;z-index: 0;}#sk-container-id-3 div.sk-serial {display: flex;flex-direction: column;align-items: center;background-color: white;padding-right: 0.2em;padding-left: 0.2em;position: relative;}#sk-container-id-3 div.sk-item {position: relative;z-index: 1;}#sk-container-id-3 div.sk-parallel {display: flex;align-items: stretch;justify-content: center;background-color: white;position: relative;}#sk-container-id-3 div.sk-item::before, #sk-container-id-3 div.sk-parallel-item::before {content: \"\";position: absolute;border-left: 1px solid gray;box-sizing: border-box;top: 0;bottom: 0;left: 50%;z-index: -1;}#sk-container-id-3 div.sk-parallel-item {display: flex;flex-direction: column;z-index: 1;position: relative;background-color: white;}#sk-container-id-3 div.sk-parallel-item:first-child::after {align-self: flex-end;width: 50%;}#sk-container-id-3 div.sk-parallel-item:last-child::after {align-self: flex-start;width: 50%;}#sk-container-id-3 div.sk-parallel-item:only-child::after {width: 0;}#sk-container-id-3 div.sk-dashed-wrapped {border: 1px dashed gray;margin: 0 0.4em 0.5em 0.4em;box-sizing: border-box;padding-bottom: 0.4em;background-color: white;}#sk-container-id-3 div.sk-label label {font-family: monospace;font-weight: bold;display: inline-block;line-height: 1.2em;}#sk-container-id-3 div.sk-label-container {text-align: center;}#sk-container-id-3 div.sk-container {/* jupyter's `normalize.less` sets `[hidden] { display: none; }` but bootstrap.min.css set `[hidden] { display: none !important; }` so we also need the `!important` here to be able to override the default hidden behavior on the sphinx rendered scikit-learn.org. See: https://github.com/scikit-learn/scikit-learn/issues/21755 */display: inline-block !important;position: relative;}#sk-container-id-3 div.sk-text-repr-fallback {display: none;}</style><div id=\"sk-container-id-3\" class=\"sk-top-container\"><div class=\"sk-text-repr-fallback\"><pre>LogisticRegression()</pre><b>In a Jupyter environment, please rerun this cell to show the HTML representation or trust the notebook. <br />On GitHub, the HTML representation is unable to render, please try loading this page with nbviewer.org.</b></div><div class=\"sk-container\" hidden><div class=\"sk-item\"><div class=\"sk-estimator sk-toggleable\"><input class=\"sk-toggleable__control sk-hidden--visually\" id=\"sk-estimator-id-3\" type=\"checkbox\" checked><label for=\"sk-estimator-id-3\" class=\"sk-toggleable__label sk-toggleable__label-arrow\">LogisticRegression</label><div class=\"sk-toggleable__content\"><pre>LogisticRegression()</pre></div></div></div></div></div>"
      ],
      "text/plain": [
       "LogisticRegression()"
      ]
     },
     "execution_count": 68,
     "metadata": {},
     "output_type": "execute_result"
    }
   ],
   "source": [
    "model.fit(x_train,y_train)"
   ]
  },
  {
   "cell_type": "code",
   "execution_count": 69,
   "id": "b37d4db2",
   "metadata": {},
   "outputs": [],
   "source": [
    "y_pred1=model.predict(x_test)"
   ]
  },
  {
   "cell_type": "code",
   "execution_count": 70,
   "id": "b9b6de06",
   "metadata": {},
   "outputs": [
    {
     "data": {
      "image/png": "[encoded data removed]",
      "text/plain": [
       "<Figure size 432x288 with 2 Axes>"
      ]
     },
     "metadata": {
      "needs_background": "light"
     },
     "output_type": "display_data"
    },
    {
     "name": "stdout",
     "output_type": "stream",
     "text": [
      "Accuracy Score:  0.5034629914649503\n",
      "Precision Score:  0.4977973568281938\n",
      "recall Score:  0.023886696730552423\n"
     ]
    }
   ],
   "source": [
    "Disp_Confusion_Matrix_test(y_test,y_pred1)"
   ]
  },
  {
   "cell_type": "code",
   "execution_count": 71,
   "id": "465ee425",
   "metadata": {},
   "outputs": [
    {
     "data": {
      "image/png": "[encoded data removed]",
      "text/plain": [
       "<Figure size 432x288 with 2 Axes>"
      ]
     },
     "metadata": {
      "needs_background": "light"
     },
     "output_type": "display_data"
    },
    {
     "name": "stdout",
     "output_type": "stream",
     "text": [
      "Accuracy Score:  0.4974639265413205\n",
      "Precision Score:  0.46551724137931033\n",
      "recall Score:  0.02215548998725492\n"
     ]
    }
   ],
   "source": [
    "Disp_Confusion_Matrix_train(y_train,model.predict(x_train))"
   ]
  },
  {
   "cell_type": "markdown",
   "id": "edcee2ff",
   "metadata": {},
   "source": [
    "<html>\n",
    "<br>\n",
    "</html>"
   ]
  },
  {
   "cell_type": "code",
   "execution_count": 72,
   "id": "229c8704",
   "metadata": {},
   "outputs": [],
   "source": [
    "model2=SVC()"
   ]
  },
  {
   "cell_type": "code",
   "execution_count": 73,
   "id": "8e5c988f",
   "metadata": {},
   "outputs": [
    {
     "data": {
      "text/html": [
       "<style>#sk-container-id-4 {color: black;background-color: white;}#sk-container-id-4 pre{padding: 0;}#sk-container-id-4 div.sk-toggleable {background-color: white;}#sk-container-id-4 label.sk-toggleable__label {cursor: pointer;display: block;width: 100%;margin-bottom: 0;padding: 0.3em;box-sizing: border-box;text-align: center;}#sk-container-id-4 label.sk-toggleable__label-arrow:before {content: \"▸\";float: left;margin-right: 0.25em;color: #696969;}#sk-container-id-4 label.sk-toggleable__label-arrow:hover:before {color: black;}#sk-container-id-4 div.sk-estimator:hover label.sk-toggleable__label-arrow:before {color: black;}#sk-container-id-4 div.sk-toggleable__content {max-height: 0;max-width: 0;overflow: hidden;text-align: left;background-color: #f0f8ff;}#sk-container-id-4 div.sk-toggleable__content pre {margin: 0.2em;color: black;border-radius: 0.25em;background-color: #f0f8ff;}#sk-container-id-4 input.sk-toggleable__control:checked~div.sk-toggleable__content {max-height: 200px;max-width: 100%;overflow: auto;}#sk-container-id-4 input.sk-toggleable__control:checked~label.sk-toggleable__label-arrow:before {content: \"▾\";}#sk-container-id-4 div.sk-estimator input.sk-toggleable__control:checked~label.sk-toggleable__label {background-color: #d4ebff;}#sk-container-id-4 div.sk-label input.sk-toggleable__control:checked~label.sk-toggleable__label {background-color: #d4ebff;}#sk-container-id-4 input.sk-hidden--visually {border: 0;clip: rect(1px 1px 1px 1px);clip: rect(1px, 1px, 1px, 1px);height: 1px;margin: -1px;overflow: hidden;padding: 0;position: absolute;width: 1px;}#sk-container-id-4 div.sk-estimator {font-family: monospace;background-color: #f0f8ff;border: 1px dotted black;border-radius: 0.25em;box-sizing: border-box;margin-bottom: 0.5em;}#sk-container-id-4 div.sk-estimator:hover {background-color: #d4ebff;}#sk-container-id-4 div.sk-parallel-item::after {content: \"\";width: 100%;border-bottom: 1px solid gray;flex-grow: 1;}#sk-container-id-4 div.sk-label:hover label.sk-toggleable__label {background-color: #d4ebff;}#sk-container-id-4 div.sk-serial::before {content: \"\";position: absolute;border-left: 1px solid gray;box-sizing: border-box;top: 0;bottom: 0;left: 50%;z-index: 0;}#sk-container-id-4 div.sk-serial {display: flex;flex-direction: column;align-items: center;background-color: white;padding-right: 0.2em;padding-left: 0.2em;position: relative;}#sk-container-id-4 div.sk-item {position: relative;z-index: 1;}#sk-container-id-4 div.sk-parallel {display: flex;align-items: stretch;justify-content: center;background-color: white;position: relative;}#sk-container-id-4 div.sk-item::before, #sk-container-id-4 div.sk-parallel-item::before {content: \"\";position: absolute;border-left: 1px solid gray;box-sizing: border-box;top: 0;bottom: 0;left: 50%;z-index: -1;}#sk-container-id-4 div.sk-parallel-item {display: flex;flex-direction: column;z-index: 1;position: relative;background-color: white;}#sk-container-id-4 div.sk-parallel-item:first-child::after {align-self: flex-end;width: 50%;}#sk-container-id-4 div.sk-parallel-item:last-child::after {align-self: flex-start;width: 50%;}#sk-container-id-4 div.sk-parallel-item:only-child::after {width: 0;}#sk-container-id-4 div.sk-dashed-wrapped {border: 1px dashed gray;margin: 0 0.4em 0.5em 0.4em;box-sizing: border-box;padding-bottom: 0.4em;background-color: white;}#sk-container-id-4 div.sk-label label {font-family: monospace;font-weight: bold;display: inline-block;line-height: 1.2em;}#sk-container-id-4 div.sk-label-container {text-align: center;}#sk-container-id-4 div.sk-container {/* jupyter's `normalize.less` sets `[hidden] { display: none; }` but bootstrap.min.css set `[hidden] { display: none !important; }` so we also need the `!important` here to be able to override the default hidden behavior on the sphinx rendered scikit-learn.org. See: https://github.com/scikit-learn/scikit-learn/issues/21755 */display: inline-block !important;position: relative;}#sk-container-id-4 div.sk-text-repr-fallback {display: none;}</style><div id=\"sk-container-id-4\" class=\"sk-top-container\"><div class=\"sk-text-repr-fallback\"><pre>SVC()</pre><b>In a Jupyter environment, please rerun this cell to show the HTML representation or trust the notebook. <br />On GitHub, the HTML representation is unable to render, please try loading this page with nbviewer.org.</b></div><div class=\"sk-container\" hidden><div class=\"sk-item\"><div class=\"sk-estimator sk-toggleable\"><input class=\"sk-toggleable__control sk-hidden--visually\" id=\"sk-estimator-id-4\" type=\"checkbox\" checked><label for=\"sk-estimator-id-4\" class=\"sk-toggleable__label sk-toggleable__label-arrow\">SVC</label><div class=\"sk-toggleable__content\"><pre>SVC()</pre></div></div></div></div></div>"
      ],
      "text/plain": [
       "SVC()"
      ]
     },
     "execution_count": 73,
     "metadata": {},
     "output_type": "execute_result"
    }
   ],
   "source": [
    "model2.fit(x_train,y_train)"
   ]
  },
  {
   "cell_type": "code",
   "execution_count": 74,
   "id": "82946c23",
   "metadata": {},
   "outputs": [
    {
     "data": {
      "text/plain": [
       "array([1, 1, 1, ..., 1, 1, 1], dtype=int64)"
      ]
     },
     "execution_count": 74,
     "metadata": {},
     "output_type": "execute_result"
    }
   ],
   "source": [
    "y_pred2=model2.predict(x_test)\n",
    "y_pred2"
   ]
  },
  {
   "cell_type": "code",
   "execution_count": 75,
   "id": "c92b3013",
   "metadata": {},
   "outputs": [
    {
     "data": {
      "text/plain": [
       "(array([0, 1], dtype=int64), array([ 7342, 21246], dtype=int64))"
      ]
     },
     "execution_count": 75,
     "metadata": {},
     "output_type": "execute_result"
    }
   ],
   "source": [
    "np.unique(y_pred2,return_counts=True)"
   ]
  },
  {
   "cell_type": "code",
   "execution_count": 76,
   "id": "3b6bc835",
   "metadata": {},
   "outputs": [
    {
     "data": {
      "image/png": "[encoded data removed]",
      "text/plain": [
       "<Figure size 432x288 with 2 Axes>"
      ]
     },
     "metadata": {
      "needs_background": "light"
     },
     "output_type": "display_data"
    },
    {
     "name": "stdout",
     "output_type": "stream",
     "text": [
      "Accuracy Score:  0.5139219252833357\n",
      "Precision Score:  0.5069660171326368\n",
      "recall Score:  0.7589487034949267\n"
     ]
    }
   ],
   "source": [
    "Disp_Confusion_Matrix_test(y_test,y_pred2)"
   ]
  },
  {
   "cell_type": "code",
   "execution_count": 77,
   "id": "6b4b7bf4",
   "metadata": {},
   "outputs": [
    {
     "data": {
      "image/png": "[encoded data removed]",
      "text/plain": [
       "<Figure size 432x288 with 2 Axes>"
      ]
     },
     "metadata": {
      "needs_background": "light"
     },
     "output_type": "display_data"
    },
    {
     "name": "stdout",
     "output_type": "stream",
     "text": [
      "Accuracy Score:  0.515067774376913\n",
      "Precision Score:  0.5107331474881495\n",
      "recall Score:  0.7580878886813206\n"
     ]
    }
   ],
   "source": [
    "Disp_Confusion_Matrix_train(y_train,model2.predict(x_train))"
   ]
  },
  {
   "cell_type": "markdown",
   "id": "094f2110",
   "metadata": {},
   "source": [
    "<html>\n",
    "<br>\n",
    "</html>"
   ]
  },
  {
   "cell_type": "code",
   "execution_count": 78,
   "id": "75eff451",
   "metadata": {},
   "outputs": [],
   "source": [
    "model3=DecisionTreeClassifier()"
   ]
  },
  {
   "cell_type": "code",
   "execution_count": 79,
   "id": "d80270ab",
   "metadata": {},
   "outputs": [
    {
     "data": {
      "text/html": [
       "<style>#sk-container-id-5 {color: black;background-color: white;}#sk-container-id-5 pre{padding: 0;}#sk-container-id-5 div.sk-toggleable {background-color: white;}#sk-container-id-5 label.sk-toggleable__label {cursor: pointer;display: block;width: 100%;margin-bottom: 0;padding: 0.3em;box-sizing: border-box;text-align: center;}#sk-container-id-5 label.sk-toggleable__label-arrow:before {content: \"▸\";float: left;margin-right: 0.25em;color: #696969;}#sk-container-id-5 label.sk-toggleable__label-arrow:hover:before {color: black;}#sk-container-id-5 div.sk-estimator:hover label.sk-toggleable__label-arrow:before {color: black;}#sk-container-id-5 div.sk-toggleable__content {max-height: 0;max-width: 0;overflow: hidden;text-align: left;background-color: #f0f8ff;}#sk-container-id-5 div.sk-toggleable__content pre {margin: 0.2em;color: black;border-radius: 0.25em;background-color: #f0f8ff;}#sk-container-id-5 input.sk-toggleable__control:checked~div.sk-toggleable__content {max-height: 200px;max-width: 100%;overflow: auto;}#sk-container-id-5 input.sk-toggleable__control:checked~label.sk-toggleable__label-arrow:before {content: \"▾\";}#sk-container-id-5 div.sk-estimator input.sk-toggleable__control:checked~label.sk-toggleable__label {background-color: #d4ebff;}#sk-container-id-5 div.sk-label input.sk-toggleable__control:checked~label.sk-toggleable__label {background-color: #d4ebff;}#sk-container-id-5 input.sk-hidden--visually {border: 0;clip: rect(1px 1px 1px 1px);clip: rect(1px, 1px, 1px, 1px);height: 1px;margin: -1px;overflow: hidden;padding: 0;position: absolute;width: 1px;}#sk-container-id-5 div.sk-estimator {font-family: monospace;background-color: #f0f8ff;border: 1px dotted black;border-radius: 0.25em;box-sizing: border-box;margin-bottom: 0.5em;}#sk-container-id-5 div.sk-estimator:hover {background-color: #d4ebff;}#sk-container-id-5 div.sk-parallel-item::after {content: \"\";width: 100%;border-bottom: 1px solid gray;flex-grow: 1;}#sk-container-id-5 div.sk-label:hover label.sk-toggleable__label {background-color: #d4ebff;}#sk-container-id-5 div.sk-serial::before {content: \"\";position: absolute;border-left: 1px solid gray;box-sizing: border-box;top: 0;bottom: 0;left: 50%;z-index: 0;}#sk-container-id-5 div.sk-serial {display: flex;flex-direction: column;align-items: center;background-color: white;padding-right: 0.2em;padding-left: 0.2em;position: relative;}#sk-container-id-5 div.sk-item {position: relative;z-index: 1;}#sk-container-id-5 div.sk-parallel {display: flex;align-items: stretch;justify-content: center;background-color: white;position: relative;}#sk-container-id-5 div.sk-item::before, #sk-container-id-5 div.sk-parallel-item::before {content: \"\";position: absolute;border-left: 1px solid gray;box-sizing: border-box;top: 0;bottom: 0;left: 50%;z-index: -1;}#sk-container-id-5 div.sk-parallel-item {display: flex;flex-direction: column;z-index: 1;position: relative;background-color: white;}#sk-container-id-5 div.sk-parallel-item:first-child::after {align-self: flex-end;width: 50%;}#sk-container-id-5 div.sk-parallel-item:last-child::after {align-self: flex-start;width: 50%;}#sk-container-id-5 div.sk-parallel-item:only-child::after {width: 0;}#sk-container-id-5 div.sk-dashed-wrapped {border: 1px dashed gray;margin: 0 0.4em 0.5em 0.4em;box-sizing: border-box;padding-bottom: 0.4em;background-color: white;}#sk-container-id-5 div.sk-label label {font-family: monospace;font-weight: bold;display: inline-block;line-height: 1.2em;}#sk-container-id-5 div.sk-label-container {text-align: center;}#sk-container-id-5 div.sk-container {/* jupyter's `normalize.less` sets `[hidden] { display: none; }` but bootstrap.min.css set `[hidden] { display: none !important; }` so we also need the `!important` here to be able to override the default hidden behavior on the sphinx rendered scikit-learn.org. See: https://github.com/scikit-learn/scikit-learn/issues/21755 */display: inline-block !important;position: relative;}#sk-container-id-5 div.sk-text-repr-fallback {display: none;}</style><div id=\"sk-container-id-5\" class=\"sk-top-container\"><div class=\"sk-text-repr-fallback\"><pre>DecisionTreeClassifier()</pre><b>In a Jupyter environment, please rerun this cell to show the HTML representation or trust the notebook. <br />On GitHub, the HTML representation is unable to render, please try loading this page with nbviewer.org.</b></div><div class=\"sk-container\" hidden><div class=\"sk-item\"><div class=\"sk-estimator sk-toggleable\"><input class=\"sk-toggleable__control sk-hidden--visually\" id=\"sk-estimator-id-5\" type=\"checkbox\" checked><label for=\"sk-estimator-id-5\" class=\"sk-toggleable__label sk-toggleable__label-arrow\">DecisionTreeClassifier</label><div class=\"sk-toggleable__content\"><pre>DecisionTreeClassifier()</pre></div></div></div></div></div>"
      ],
      "text/plain": [
       "DecisionTreeClassifier()"
      ]
     },
     "execution_count": 79,
     "metadata": {},
     "output_type": "execute_result"
    }
   ],
   "source": [
    "model3.fit(x_train,y_train)"
   ]
  },
  {
   "cell_type": "code",
   "execution_count": 80,
   "id": "48615986",
   "metadata": {},
   "outputs": [
    {
     "data": {
      "text/plain": [
       "array([0, 0, 0, ..., 0, 0, 1], dtype=int64)"
      ]
     },
     "execution_count": 80,
     "metadata": {},
     "output_type": "execute_result"
    }
   ],
   "source": [
    "y_pred3=model3.predict(x_test)\n",
    "y_pred3"
   ]
  },
  {
   "cell_type": "code",
   "execution_count": 81,
   "id": "fc3b992e",
   "metadata": {},
   "outputs": [
    {
     "data": {
      "text/plain": [
       "(array([0, 1], dtype=int64), array([13971, 14617], dtype=int64))"
      ]
     },
     "execution_count": 81,
     "metadata": {},
     "output_type": "execute_result"
    }
   ],
   "source": [
    "np.unique(y_pred3,return_counts=True)"
   ]
  },
  {
   "cell_type": "code",
   "execution_count": 82,
   "id": "09daba10",
   "metadata": {},
   "outputs": [
    {
     "data": {
      "image/png": "[encoded data removed]",
      "text/plain": [
       "<Figure size 432x288 with 2 Axes>"
      ]
     },
     "metadata": {
      "needs_background": "light"
     },
     "output_type": "display_data"
    },
    {
     "name": "stdout",
     "output_type": "stream",
     "text": [
      "Accuracy Score:  0.8719392752203722\n",
      "Precision Score:  0.8602312376000547\n",
      "recall Score:  0.8859921082299888\n"
     ]
    }
   ],
   "source": [
    "Disp_Confusion_Matrix_test(y_test,y_pred3)"
   ]
  },
  {
   "cell_type": "code",
   "execution_count": 83,
   "id": "b61a3db7",
   "metadata": {},
   "outputs": [
    {
     "data": {
      "image/png": "[encoded data removed]",
      "text/plain": [
       "<Figure size 432x288 with 2 Axes>"
      ]
     },
     "metadata": {
      "needs_background": "light"
     },
     "output_type": "display_data"
    },
    {
     "name": "stdout",
     "output_type": "stream",
     "text": [
      "Accuracy Score:  0.99991254919108\n",
      "Precision Score:  1.0\n",
      "recall Score:  0.9998254098503763\n"
     ]
    }
   ],
   "source": [
    "Disp_Confusion_Matrix_train(y_train,model3.predict(x_train))"
   ]
  },
  {
   "cell_type": "markdown",
   "id": "e2e2182a",
   "metadata": {},
   "source": [
    "<html>\n",
    "<br>\n",
    "</html>"
   ]
  },
  {
   "cell_type": "code",
   "execution_count": 84,
   "id": "84afd744",
   "metadata": {},
   "outputs": [],
   "source": [
    "model4=RandomForestClassifier()"
   ]
  },
  {
   "cell_type": "code",
   "execution_count": 85,
   "id": "d883ed87",
   "metadata": {},
   "outputs": [
    {
     "data": {
      "text/html": [
       "<style>#sk-container-id-6 {color: black;background-color: white;}#sk-container-id-6 pre{padding: 0;}#sk-container-id-6 div.sk-toggleable {background-color: white;}#sk-container-id-6 label.sk-toggleable__label {cursor: pointer;display: block;width: 100%;margin-bottom: 0;padding: 0.3em;box-sizing: border-box;text-align: center;}#sk-container-id-6 label.sk-toggleable__label-arrow:before {content: \"▸\";float: left;margin-right: 0.25em;color: #696969;}#sk-container-id-6 label.sk-toggleable__label-arrow:hover:before {color: black;}#sk-container-id-6 div.sk-estimator:hover label.sk-toggleable__label-arrow:before {color: black;}#sk-container-id-6 div.sk-toggleable__content {max-height: 0;max-width: 0;overflow: hidden;text-align: left;background-color: #f0f8ff;}#sk-container-id-6 div.sk-toggleable__content pre {margin: 0.2em;color: black;border-radius: 0.25em;background-color: #f0f8ff;}#sk-container-id-6 input.sk-toggleable__control:checked~div.sk-toggleable__content {max-height: 200px;max-width: 100%;overflow: auto;}#sk-container-id-6 input.sk-toggleable__control:checked~label.sk-toggleable__label-arrow:before {content: \"▾\";}#sk-container-id-6 div.sk-estimator input.sk-toggleable__control:checked~label.sk-toggleable__label {background-color: #d4ebff;}#sk-container-id-6 div.sk-label input.sk-toggleable__control:checked~label.sk-toggleable__label {background-color: #d4ebff;}#sk-container-id-6 input.sk-hidden--visually {border: 0;clip: rect(1px 1px 1px 1px);clip: rect(1px, 1px, 1px, 1px);height: 1px;margin: -1px;overflow: hidden;padding: 0;position: absolute;width: 1px;}#sk-container-id-6 div.sk-estimator {font-family: monospace;background-color: #f0f8ff;border: 1px dotted black;border-radius: 0.25em;box-sizing: border-box;margin-bottom: 0.5em;}#sk-container-id-6 div.sk-estimator:hover {background-color: #d4ebff;}#sk-container-id-6 div.sk-parallel-item::after {content: \"\";width: 100%;border-bottom: 1px solid gray;flex-grow: 1;}#sk-container-id-6 div.sk-label:hover label.sk-toggleable__label {background-color: #d4ebff;}#sk-container-id-6 div.sk-serial::before {content: \"\";position: absolute;border-left: 1px solid gray;box-sizing: border-box;top: 0;bottom: 0;left: 50%;z-index: 0;}#sk-container-id-6 div.sk-serial {display: flex;flex-direction: column;align-items: center;background-color: white;padding-right: 0.2em;padding-left: 0.2em;position: relative;}#sk-container-id-6 div.sk-item {position: relative;z-index: 1;}#sk-container-id-6 div.sk-parallel {display: flex;align-items: stretch;justify-content: center;background-color: white;position: relative;}#sk-container-id-6 div.sk-item::before, #sk-container-id-6 div.sk-parallel-item::before {content: \"\";position: absolute;border-left: 1px solid gray;box-sizing: border-box;top: 0;bottom: 0;left: 50%;z-index: -1;}#sk-container-id-6 div.sk-parallel-item {display: flex;flex-direction: column;z-index: 1;position: relative;background-color: white;}#sk-container-id-6 div.sk-parallel-item:first-child::after {align-self: flex-end;width: 50%;}#sk-container-id-6 div.sk-parallel-item:last-child::after {align-self: flex-start;width: 50%;}#sk-container-id-6 div.sk-parallel-item:only-child::after {width: 0;}#sk-container-id-6 div.sk-dashed-wrapped {border: 1px dashed gray;margin: 0 0.4em 0.5em 0.4em;box-sizing: border-box;padding-bottom: 0.4em;background-color: white;}#sk-container-id-6 div.sk-label label {font-family: monospace;font-weight: bold;display: inline-block;line-height: 1.2em;}#sk-container-id-6 div.sk-label-container {text-align: center;}#sk-container-id-6 div.sk-container {/* jupyter's `normalize.less` sets `[hidden] { display: none; }` but bootstrap.min.css set `[hidden] { display: none !important; }` so we also need the `!important` here to be able to override the default hidden behavior on the sphinx rendered scikit-learn.org. See: https://github.com/scikit-learn/scikit-learn/issues/21755 */display: inline-block !important;position: relative;}#sk-container-id-6 div.sk-text-repr-fallback {display: none;}</style><div id=\"sk-container-id-6\" class=\"sk-top-container\"><div class=\"sk-text-repr-fallback\"><pre>RandomForestClassifier()</pre><b>In a Jupyter environment, please rerun this cell to show the HTML representation or trust the notebook. <br />On GitHub, the HTML representation is unable to render, please try loading this page with nbviewer.org.</b></div><div class=\"sk-container\" hidden><div class=\"sk-item\"><div class=\"sk-estimator sk-toggleable\"><input class=\"sk-toggleable__control sk-hidden--visually\" id=\"sk-estimator-id-6\" type=\"checkbox\" checked><label for=\"sk-estimator-id-6\" class=\"sk-toggleable__label sk-toggleable__label-arrow\">RandomForestClassifier</label><div class=\"sk-toggleable__content\"><pre>RandomForestClassifier()</pre></div></div></div></div></div>"
      ],
      "text/plain": [
       "RandomForestClassifier()"
      ]
     },
     "execution_count": 85,
     "metadata": {},
     "output_type": "execute_result"
    }
   ],
   "source": [
    "model4.fit(x_train,y_train)"
   ]
  },
  {
   "cell_type": "code",
   "execution_count": 86,
   "id": "14d2cd63",
   "metadata": {},
   "outputs": [],
   "source": [
    "y_pred4=model4.predict(x_test)"
   ]
  },
  {
   "cell_type": "code",
   "execution_count": 87,
   "id": "a9d950c8",
   "metadata": {},
   "outputs": [
    {
     "data": {
      "text/plain": [
       "(array([0, 1], dtype=int64), array([16086, 12502], dtype=int64))"
      ]
     },
     "execution_count": 87,
     "metadata": {},
     "output_type": "execute_result"
    }
   ],
   "source": [
    "np.unique(y_pred4,return_counts=True)"
   ]
  },
  {
   "cell_type": "code",
   "execution_count": 88,
   "id": "5a735829",
   "metadata": {},
   "outputs": [
    {
     "data": {
      "image/png": "[encoded data removed]",
      "text/plain": [
       "<Figure size 432x288 with 2 Axes>"
      ]
     },
     "metadata": {
      "needs_background": "light"
     },
     "output_type": "display_data"
    },
    {
     "name": "stdout",
     "output_type": "stream",
     "text": [
      "Accuracy Score:  0.9301105358891842\n",
      "Precision Score:  0.9876819708846585\n",
      "recall Score:  0.8700676437429538\n"
     ]
    }
   ],
   "source": [
    "Disp_Confusion_Matrix_test(y_test,y_pred4)"
   ]
  },
  {
   "cell_type": "code",
   "execution_count": 89,
   "id": "bf25b798",
   "metadata": {
    "scrolled": true
   },
   "outputs": [
    {
     "data": {
      "image/png": "[encoded data removed]",
      "text/plain": [
       "<Figure size 432x288 with 2 Axes>"
      ]
     },
     "metadata": {
      "needs_background": "light"
     },
     "output_type": "display_data"
    },
    {
     "name": "stdout",
     "output_type": "stream",
     "text": [
      "Accuracy Score:  0.999895059029296\n",
      "Precision Score:  0.9999650770923187\n",
      "recall Score:  0.9998254098503763\n"
     ]
    }
   ],
   "source": [
    "Disp_Confusion_Matrix_train(y_train,model4.predict(x_train))"
   ]
  },
  {
   "cell_type": "markdown",
   "id": "f00ca622",
   "metadata": {},
   "source": [
    "<html>\n",
    "<br>\n",
    "</html>"
   ]
  },
  {
   "cell_type": "code",
   "execution_count": 90,
   "id": "56cccd31",
   "metadata": {},
   "outputs": [],
   "source": [
    "model5=tf.keras.Sequential()"
   ]
  },
  {
   "cell_type": "code",
   "execution_count": 91,
   "id": "691f950d",
   "metadata": {},
   "outputs": [],
   "source": [
    "model5.add(tf.keras.layers.InputLayer(input_shape=(16,),name='Input_Layer'))\n",
    "model5.add(tf.keras.layers.Dense(16,name='Hidden_Layer_1',activation='relu'))\n",
    "model5.add(tf.keras.layers.Dense(2,name='Output_Layer',activation='sigmoid'))"
   ]
  },
  {
   "cell_type": "code",
   "execution_count": 92,
   "id": "69aa99c3",
   "metadata": {},
   "outputs": [
    {
     "name": "stdout",
     "output_type": "stream",
     "text": [
      "Model: \"sequential\"\n",
      "_________________________________________________________________\n",
      " Layer (type)                Output Shape              Param #   \n",
      "=================================================================\n",
      " Hidden_Layer_1 (Dense)      (None, 16)                272       \n",
      "                                                                 \n",
      " Output_Layer (Dense)        (None, 2)                 34        \n",
      "                                                                 \n",
      "=================================================================\n",
      "Total params: 306\n",
      "Trainable params: 306\n",
      "Non-trainable params: 0\n",
      "_________________________________________________________________\n"
     ]
    }
   ],
   "source": [
    "model5.summary()"
   ]
  },
  {
   "cell_type": "code",
   "execution_count": 93,
   "id": "d11e9b84",
   "metadata": {},
   "outputs": [],
   "source": [
    "y_train_copy=y_train.copy()"
   ]
  },
  {
   "cell_type": "code",
   "execution_count": 94,
   "id": "c88294b5",
   "metadata": {},
   "outputs": [],
   "source": [
    "y_train_copy=tf.one_hot(y_train_copy,depth=2)"
   ]
  },
  {
   "cell_type": "code",
   "execution_count": 95,
   "id": "6a9cf137",
   "metadata": {},
   "outputs": [
    {
     "data": {
      "text/plain": [
       "<tf.Tensor: shape=(114350, 2), dtype=float32, numpy=\n",
       "array([[0., 1.],\n",
       "       [1., 0.],\n",
       "       [0., 1.],\n",
       "       ...,\n",
       "       [0., 1.],\n",
       "       [0., 1.],\n",
       "       [0., 1.]], dtype=float32)>"
      ]
     },
     "execution_count": 95,
     "metadata": {},
     "output_type": "execute_result"
    }
   ],
   "source": [
    "y_train_copy"
   ]
  },
  {
   "cell_type": "code",
   "execution_count": 96,
   "id": "89795152",
   "metadata": {},
   "outputs": [],
   "source": [
    "model5.compile(optimizer='adam',loss='BinaryCrossentropy',metrics=['accuracy'])"
   ]
  },
  {
   "cell_type": "code",
   "execution_count": 97,
   "id": "4a923519",
   "metadata": {},
   "outputs": [
    {
     "name": "stdout",
     "output_type": "stream",
     "text": [
      "Epoch 1/20\n",
      "3574/3574 [==============================] - 8s 2ms/step - loss: 170.3719 - accuracy: 0.5169\n",
      "Epoch 2/20\n",
      "3574/3574 [==============================] - 7s 2ms/step - loss: 123.5247 - accuracy: 0.5381\n",
      "Epoch 3/20\n",
      "3574/3574 [==============================] - 7s 2ms/step - loss: 100.7857 - accuracy: 0.5435\n",
      "Epoch 4/20\n",
      "3574/3574 [==============================] - 7s 2ms/step - loss: 120.9907 - accuracy: 0.5454\n",
      "Epoch 5/20\n",
      "3574/3574 [==============================] - 7s 2ms/step - loss: 94.9499 - accuracy: 0.5475\n",
      "Epoch 6/20\n",
      "3574/3574 [==============================] - 7s 2ms/step - loss: 101.1097 - accuracy: 0.5504\n",
      "Epoch 7/20\n",
      "3574/3574 [==============================] - 7s 2ms/step - loss: 105.9732 - accuracy: 0.5529\n",
      "Epoch 8/20\n",
      "3574/3574 [==============================] - 7s 2ms/step - loss: 122.9835 - accuracy: 0.5506\n",
      "Epoch 9/20\n",
      "3574/3574 [==============================] - 7s 2ms/step - loss: 116.9087 - accuracy: 0.5546\n",
      "Epoch 10/20\n",
      "3574/3574 [==============================] - 7s 2ms/step - loss: 98.3011 - accuracy: 0.5537\n",
      "Epoch 11/20\n",
      "3574/3574 [==============================] - 7s 2ms/step - loss: 108.4368 - accuracy: 0.5515\n",
      "Epoch 12/20\n",
      "3574/3574 [==============================] - 7s 2ms/step - loss: 90.8400 - accuracy: 0.5539\n",
      "Epoch 13/20\n",
      "3574/3574 [==============================] - 7s 2ms/step - loss: 100.1720 - accuracy: 0.5587\n",
      "Epoch 14/20\n",
      "3574/3574 [==============================] - 7s 2ms/step - loss: 104.1284 - accuracy: 0.5527\n",
      "Epoch 15/20\n",
      "3574/3574 [==============================] - 7s 2ms/step - loss: 90.4174 - accuracy: 0.5535\n",
      "Epoch 16/20\n",
      "3574/3574 [==============================] - 7s 2ms/step - loss: 102.6340 - accuracy: 0.5542\n",
      "Epoch 17/20\n",
      "3574/3574 [==============================] - 7s 2ms/step - loss: 90.8805 - accuracy: 0.5539\n",
      "Epoch 18/20\n",
      "3574/3574 [==============================] - 7s 2ms/step - loss: 98.2379 - accuracy: 0.5576\n",
      "Epoch 19/20\n",
      "3574/3574 [==============================] - 7s 2ms/step - loss: 95.6131 - accuracy: 0.5569\n",
      "Epoch 20/20\n",
      "3574/3574 [==============================] - 7s 2ms/step - loss: 83.5322 - accuracy: 0.5592\n"
     ]
    }
   ],
   "source": [
    "history=model5.fit(x_train,y_train_copy,batch_size=32,epochs=20)"
   ]
  },
  {
   "cell_type": "code",
   "execution_count": 98,
   "id": "4b639a2a",
   "metadata": {},
   "outputs": [
    {
     "name": "stdout",
     "output_type": "stream",
     "text": [
      "894/894 [==============================] - 1s 1ms/step\n"
     ]
    }
   ],
   "source": [
    "y_pred5=model5.predict(x_test)"
   ]
  },
  {
   "cell_type": "code",
   "execution_count": 99,
   "id": "90fb7d2b",
   "metadata": {},
   "outputs": [
    {
     "data": {
      "text/plain": [
       "array([[8.5653657e-01, 9.7839260e-01],\n",
       "       [3.9385128e-01, 9.9991822e-01],\n",
       "       [2.3733284e-09, 1.0000000e+00],\n",
       "       ...,\n",
       "       [8.5112661e-01, 9.7577840e-01],\n",
       "       [4.8990391e-02, 9.9999672e-01],\n",
       "       [1.9643417e-01, 9.9984252e-01]], dtype=float32)"
      ]
     },
     "execution_count": 99,
     "metadata": {},
     "output_type": "execute_result"
    }
   ],
   "source": [
    "y_pred5"
   ]
  },
  {
   "cell_type": "code",
   "execution_count": 100,
   "id": "a8d38ddd",
   "metadata": {},
   "outputs": [],
   "source": [
    "temp=y_pred5.copy()"
   ]
  },
  {
   "cell_type": "code",
   "execution_count": 101,
   "id": "e7f479b8",
   "metadata": {},
   "outputs": [],
   "source": [
    "temp=temp.round(2)"
   ]
  },
  {
   "cell_type": "code",
   "execution_count": 102,
   "id": "a07aa4b7",
   "metadata": {},
   "outputs": [
    {
     "data": {
      "text/plain": [
       "array([[0.86, 0.98],\n",
       "       [0.39, 1.  ],\n",
       "       [0.  , 1.  ],\n",
       "       ...,\n",
       "       [0.85, 0.98],\n",
       "       [0.05, 1.  ],\n",
       "       [0.2 , 1.  ]], dtype=float32)"
      ]
     },
     "execution_count": 102,
     "metadata": {},
     "output_type": "execute_result"
    }
   ],
   "source": [
    "temp"
   ]
  },
  {
   "cell_type": "code",
   "execution_count": 103,
   "id": "0b3a1524",
   "metadata": {},
   "outputs": [],
   "source": [
    "acc=[]"
   ]
  },
  {
   "cell_type": "code",
   "execution_count": 104,
   "id": "638f339a",
   "metadata": {},
   "outputs": [],
   "source": [
    "for i in range(len(temp)):\n",
    "    idx=np.argmax(temp[i],axis=0)\n",
    "    acc.append(idx)"
   ]
  },
  {
   "cell_type": "code",
   "execution_count": 105,
   "id": "dbcb4898",
   "metadata": {},
   "outputs": [
    {
     "data": {
      "text/plain": [
       "array([1, 1, 1, ..., 1, 1, 1], dtype=int64)"
      ]
     },
     "execution_count": 105,
     "metadata": {},
     "output_type": "execute_result"
    }
   ],
   "source": [
    "acc=np.array(acc)\n",
    "acc"
   ]
  },
  {
   "cell_type": "code",
   "execution_count": 106,
   "id": "d436dbef",
   "metadata": {},
   "outputs": [
    {
     "data": {
      "text/plain": [
       "(array([0, 1], dtype=int64), array([ 4602, 23986], dtype=int64))"
      ]
     },
     "execution_count": 106,
     "metadata": {},
     "output_type": "execute_result"
    }
   ],
   "source": [
    "np.unique(acc,return_counts=True)"
   ]
  },
  {
   "cell_type": "code",
   "execution_count": 107,
   "id": "fc2bee11",
   "metadata": {},
   "outputs": [
    {
     "data": {
      "image/png": "[encoded data removed]",
      "text/plain": [
       "<Figure size 432x288 with 2 Axes>"
      ]
     },
     "metadata": {
      "needs_background": "light"
     },
     "output_type": "display_data"
    },
    {
     "name": "stdout",
     "output_type": "stream",
     "text": [
      "Accuracy Score:  0.5611445361690219\n",
      "Precision Score:  0.5343116818143917\n",
      "recall Score:  0.90304396843292\n"
     ]
    }
   ],
   "source": [
    "Disp_Confusion_Matrix_test(y_test,acc)"
   ]
  },
  {
   "cell_type": "code",
   "execution_count": 108,
   "id": "7638918d",
   "metadata": {},
   "outputs": [
    {
     "name": "stdout",
     "output_type": "stream",
     "text": [
      "3574/3574 [==============================] - 5s 1ms/step\n"
     ]
    }
   ],
   "source": [
    "acc=[]\n",
    "x_train_pred=model5.predict(x_train)"
   ]
  },
  {
   "cell_type": "code",
   "execution_count": 109,
   "id": "2cb9053d",
   "metadata": {},
   "outputs": [],
   "source": [
    "for i in range(len(x_train_pred)):\n",
    "    if x_train_pred[i][0]>=x_train_pred[i][1]:\n",
    "        acc.append(0)\n",
    "    else:\n",
    "        acc.append(1)"
   ]
  },
  {
   "cell_type": "code",
   "execution_count": 110,
   "id": "93bedd84",
   "metadata": {},
   "outputs": [],
   "source": [
    "acc=np.array(acc)"
   ]
  },
  {
   "cell_type": "code",
   "execution_count": 111,
   "id": "09bf8a08",
   "metadata": {},
   "outputs": [
    {
     "data": {
      "image/png": "[encoded data removed]",
      "text/plain": [
       "<Figure size 432x288 with 2 Axes>"
      ]
     },
     "metadata": {
      "needs_background": "light"
     },
     "output_type": "display_data"
    },
    {
     "name": "stdout",
     "output_type": "stream",
     "text": [
      "Accuracy Score:  0.5658679492785308\n",
      "Precision Score:  0.5398143319077918\n",
      "recall Score:  0.9035389423328736\n"
     ]
    }
   ],
   "source": [
    "Disp_Confusion_Matrix_train(y_train,acc)"
   ]
  },
  {
   "cell_type": "code",
   "execution_count": 112,
   "id": "02055458",
   "metadata": {},
   "outputs": [
    {
     "data": {
      "text/plain": [
       "{'verbose': 1, 'epochs': 20, 'steps': 3574}"
      ]
     },
     "execution_count": 112,
     "metadata": {},
     "output_type": "execute_result"
    }
   ],
   "source": [
    "history.params"
   ]
  },
  {
   "cell_type": "code",
   "execution_count": 113,
   "id": "e161875b",
   "metadata": {},
   "outputs": [
    {
     "data": {
      "text/plain": [
       "dict_keys(['loss', 'accuracy'])"
      ]
     },
     "execution_count": 113,
     "metadata": {},
     "output_type": "execute_result"
    }
   ],
   "source": [
    "history.history.keys()"
   ]
  },
  {
   "cell_type": "code",
   "execution_count": 114,
   "id": "ba77aa5a",
   "metadata": {},
   "outputs": [
    {
     "data": {
      "image/png": "[encoded data removed]",
      "text/plain": [
       "<Figure size 432x288 with 1 Axes>"
      ]
     },
     "metadata": {
      "needs_background": "light"
     },
     "output_type": "display_data"
    }
   ],
   "source": [
    "plt.plot(history.history['accuracy'])\n",
    "plt.title('model accuracy')\n",
    "plt.ylabel('accuracy')\n",
    "plt.xlabel('epoch')\n",
    "plt.legend(['train'], loc='upper left')\n",
    "plt.show()"
   ]
  },
  {
   "cell_type": "code",
   "execution_count": 115,
   "id": "eca71a30",
   "metadata": {},
   "outputs": [
    {
     "data": {
      "image/png": "[encoded data removed]",
      "text/plain": [
       "<Figure size 432x288 with 1 Axes>"
      ]
     },
     "metadata": {
      "needs_background": "light"
     },
     "output_type": "display_data"
    }
   ],
   "source": [
    "plt.plot(history.history['loss'])\n",
    "plt.title('model loss')\n",
    "plt.ylabel('loss')\n",
    "plt.xlabel('epoch')\n",
    "plt.legend(['train'], loc='upper left')\n",
    "plt.show()"
   ]
  },
  {
   "cell_type": "markdown",
   "id": "c20373a2",
   "metadata": {},
   "source": [
    "<html>\n",
    "    <br>\n",
    "</html>"
   ]
  },
  {
   "cell_type": "code",
   "execution_count": 116,
   "id": "d4e81b10",
   "metadata": {},
   "outputs": [],
   "source": [
    "xgboost=GradientBoostingClassifier()"
   ]
  },
  {
   "cell_type": "code",
   "execution_count": 117,
   "id": "6d5e723a",
   "metadata": {},
   "outputs": [
    {
     "data": {
      "text/html": [
       "<style>#sk-container-id-7 {color: black;background-color: white;}#sk-container-id-7 pre{padding: 0;}#sk-container-id-7 div.sk-toggleable {background-color: white;}#sk-container-id-7 label.sk-toggleable__label {cursor: pointer;display: block;width: 100%;margin-bottom: 0;padding: 0.3em;box-sizing: border-box;text-align: center;}#sk-container-id-7 label.sk-toggleable__label-arrow:before {content: \"▸\";float: left;margin-right: 0.25em;color: #696969;}#sk-container-id-7 label.sk-toggleable__label-arrow:hover:before {color: black;}#sk-container-id-7 div.sk-estimator:hover label.sk-toggleable__label-arrow:before {color: black;}#sk-container-id-7 div.sk-toggleable__content {max-height: 0;max-width: 0;overflow: hidden;text-align: left;background-color: #f0f8ff;}#sk-container-id-7 div.sk-toggleable__content pre {margin: 0.2em;color: black;border-radius: 0.25em;background-color: #f0f8ff;}#sk-container-id-7 input.sk-toggleable__control:checked~div.sk-toggleable__content {max-height: 200px;max-width: 100%;overflow: auto;}#sk-container-id-7 input.sk-toggleable__control:checked~label.sk-toggleable__label-arrow:before {content: \"▾\";}#sk-container-id-7 div.sk-estimator input.sk-toggleable__control:checked~label.sk-toggleable__label {background-color: #d4ebff;}#sk-container-id-7 div.sk-label input.sk-toggleable__control:checked~label.sk-toggleable__label {background-color: #d4ebff;}#sk-container-id-7 input.sk-hidden--visually {border: 0;clip: rect(1px 1px 1px 1px);clip: rect(1px, 1px, 1px, 1px);height: 1px;margin: -1px;overflow: hidden;padding: 0;position: absolute;width: 1px;}#sk-container-id-7 div.sk-estimator {font-family: monospace;background-color: #f0f8ff;border: 1px dotted black;border-radius: 0.25em;box-sizing: border-box;margin-bottom: 0.5em;}#sk-container-id-7 div.sk-estimator:hover {background-color: #d4ebff;}#sk-container-id-7 div.sk-parallel-item::after {content: \"\";width: 100%;border-bottom: 1px solid gray;flex-grow: 1;}#sk-container-id-7 div.sk-label:hover label.sk-toggleable__label {background-color: #d4ebff;}#sk-container-id-7 div.sk-serial::before {content: \"\";position: absolute;border-left: 1px solid gray;box-sizing: border-box;top: 0;bottom: 0;left: 50%;z-index: 0;}#sk-container-id-7 div.sk-serial {display: flex;flex-direction: column;align-items: center;background-color: white;padding-right: 0.2em;padding-left: 0.2em;position: relative;}#sk-container-id-7 div.sk-item {position: relative;z-index: 1;}#sk-container-id-7 div.sk-parallel {display: flex;align-items: stretch;justify-content: center;background-color: white;position: relative;}#sk-container-id-7 div.sk-item::before, #sk-container-id-7 div.sk-parallel-item::before {content: \"\";position: absolute;border-left: 1px solid gray;box-sizing: border-box;top: 0;bottom: 0;left: 50%;z-index: -1;}#sk-container-id-7 div.sk-parallel-item {display: flex;flex-direction: column;z-index: 1;position: relative;background-color: white;}#sk-container-id-7 div.sk-parallel-item:first-child::after {align-self: flex-end;width: 50%;}#sk-container-id-7 div.sk-parallel-item:last-child::after {align-self: flex-start;width: 50%;}#sk-container-id-7 div.sk-parallel-item:only-child::after {width: 0;}#sk-container-id-7 div.sk-dashed-wrapped {border: 1px dashed gray;margin: 0 0.4em 0.5em 0.4em;box-sizing: border-box;padding-bottom: 0.4em;background-color: white;}#sk-container-id-7 div.sk-label label {font-family: monospace;font-weight: bold;display: inline-block;line-height: 1.2em;}#sk-container-id-7 div.sk-label-container {text-align: center;}#sk-container-id-7 div.sk-container {/* jupyter's `normalize.less` sets `[hidden] { display: none; }` but bootstrap.min.css set `[hidden] { display: none !important; }` so we also need the `!important` here to be able to override the default hidden behavior on the sphinx rendered scikit-learn.org. See: https://github.com/scikit-learn/scikit-learn/issues/21755 */display: inline-block !important;position: relative;}#sk-container-id-7 div.sk-text-repr-fallback {display: none;}</style><div id=\"sk-container-id-7\" class=\"sk-top-container\"><div class=\"sk-text-repr-fallback\"><pre>GradientBoostingClassifier()</pre><b>In a Jupyter environment, please rerun this cell to show the HTML representation or trust the notebook. <br />On GitHub, the HTML representation is unable to render, please try loading this page with nbviewer.org.</b></div><div class=\"sk-container\" hidden><div class=\"sk-item\"><div class=\"sk-estimator sk-toggleable\"><input class=\"sk-toggleable__control sk-hidden--visually\" id=\"sk-estimator-id-7\" type=\"checkbox\" checked><label for=\"sk-estimator-id-7\" class=\"sk-toggleable__label sk-toggleable__label-arrow\">GradientBoostingClassifier</label><div class=\"sk-toggleable__content\"><pre>GradientBoostingClassifier()</pre></div></div></div></div></div>"
      ],
      "text/plain": [
       "GradientBoostingClassifier()"
      ]
     },
     "execution_count": 117,
     "metadata": {},
     "output_type": "execute_result"
    }
   ],
   "source": [
    "xgboost.fit(x_train,y_train)"
   ]
  },
  {
   "cell_type": "code",
   "execution_count": 118,
   "id": "50a014f1",
   "metadata": {},
   "outputs": [],
   "source": [
    "y_pred_xgboost=xgboost.predict(x_test)"
   ]
  },
  {
   "cell_type": "code",
   "execution_count": 119,
   "id": "82e23a5f",
   "metadata": {},
   "outputs": [
    {
     "data": {
      "text/plain": [
       "(array([0, 1], dtype=int64), array([16285, 12303], dtype=int64))"
      ]
     },
     "execution_count": 119,
     "metadata": {},
     "output_type": "execute_result"
    }
   ],
   "source": [
    "np.unique(y_pred_xgboost,return_counts=True)"
   ]
  },
  {
   "cell_type": "code",
   "execution_count": 120,
   "id": "c911237e",
   "metadata": {},
   "outputs": [
    {
     "data": {
      "image/png": "[encoded data removed]",
      "text/plain": [
       "<Figure size 432x288 with 2 Axes>"
      ]
     },
     "metadata": {
      "needs_background": "light"
     },
     "output_type": "display_data"
    },
    {
     "name": "stdout",
     "output_type": "stream",
     "text": [
      "Accuracy Score:  0.9079683783405624\n",
      "Precision Score:  0.9698447533122003\n",
      "recall Score:  0.8407553551296505\n"
     ]
    }
   ],
   "source": [
    "Disp_Confusion_Matrix_test(y_test,y_pred_xgboost)"
   ]
  },
  {
   "cell_type": "code",
   "execution_count": 121,
   "id": "ae12fe7b",
   "metadata": {},
   "outputs": [],
   "source": [
    "temp_scores=xgboost.predict(x_train)"
   ]
  },
  {
   "cell_type": "code",
   "execution_count": 122,
   "id": "4a3fc46a",
   "metadata": {},
   "outputs": [
    {
     "data": {
      "image/png": "[encoded data removed]",
      "text/plain": [
       "<Figure size 432x288 with 2 Axes>"
      ]
     },
     "metadata": {
      "needs_background": "light"
     },
     "output_type": "display_data"
    },
    {
     "name": "stdout",
     "output_type": "stream",
     "text": [
      "Accuracy Score:  0.9092085701792741\n",
      "Precision Score:  0.975117018905392\n",
      "recall Score:  0.8401801770344117\n"
     ]
    }
   ],
   "source": [
    "Disp_Confusion_Matrix_train(y_train,temp_scores)"
   ]
  },
  {
   "cell_type": "markdown",
   "id": "5b7b3d55",
   "metadata": {},
   "source": [
    "<html>\n",
    "    <br>\n",
    "</html>"
   ]
  },
  {
   "cell_type": "code",
   "execution_count": 123,
   "id": "b10d9a84",
   "metadata": {},
   "outputs": [],
   "source": [
    "KNN_model=KNeighborsClassifier(n_neighbors=255)"
   ]
  },
  {
   "cell_type": "code",
   "execution_count": 124,
   "id": "4ec49620",
   "metadata": {},
   "outputs": [
    {
     "data": {
      "text/html": [
       "<style>#sk-container-id-8 {color: black;background-color: white;}#sk-container-id-8 pre{padding: 0;}#sk-container-id-8 div.sk-toggleable {background-color: white;}#sk-container-id-8 label.sk-toggleable__label {cursor: pointer;display: block;width: 100%;margin-bottom: 0;padding: 0.3em;box-sizing: border-box;text-align: center;}#sk-container-id-8 label.sk-toggleable__label-arrow:before {content: \"▸\";float: left;margin-right: 0.25em;color: #696969;}#sk-container-id-8 label.sk-toggleable__label-arrow:hover:before {color: black;}#sk-container-id-8 div.sk-estimator:hover label.sk-toggleable__label-arrow:before {color: black;}#sk-container-id-8 div.sk-toggleable__content {max-height: 0;max-width: 0;overflow: hidden;text-align: left;background-color: #f0f8ff;}#sk-container-id-8 div.sk-toggleable__content pre {margin: 0.2em;color: black;border-radius: 0.25em;background-color: #f0f8ff;}#sk-container-id-8 input.sk-toggleable__control:checked~div.sk-toggleable__content {max-height: 200px;max-width: 100%;overflow: auto;}#sk-container-id-8 input.sk-toggleable__control:checked~label.sk-toggleable__label-arrow:before {content: \"▾\";}#sk-container-id-8 div.sk-estimator input.sk-toggleable__control:checked~label.sk-toggleable__label {background-color: #d4ebff;}#sk-container-id-8 div.sk-label input.sk-toggleable__control:checked~label.sk-toggleable__label {background-color: #d4ebff;}#sk-container-id-8 input.sk-hidden--visually {border: 0;clip: rect(1px 1px 1px 1px);clip: rect(1px, 1px, 1px, 1px);height: 1px;margin: -1px;overflow: hidden;padding: 0;position: absolute;width: 1px;}#sk-container-id-8 div.sk-estimator {font-family: monospace;background-color: #f0f8ff;border: 1px dotted black;border-radius: 0.25em;box-sizing: border-box;margin-bottom: 0.5em;}#sk-container-id-8 div.sk-estimator:hover {background-color: #d4ebff;}#sk-container-id-8 div.sk-parallel-item::after {content: \"\";width: 100%;border-bottom: 1px solid gray;flex-grow: 1;}#sk-container-id-8 div.sk-label:hover label.sk-toggleable__label {background-color: #d4ebff;}#sk-container-id-8 div.sk-serial::before {content: \"\";position: absolute;border-left: 1px solid gray;box-sizing: border-box;top: 0;bottom: 0;left: 50%;z-index: 0;}#sk-container-id-8 div.sk-serial {display: flex;flex-direction: column;align-items: center;background-color: white;padding-right: 0.2em;padding-left: 0.2em;position: relative;}#sk-container-id-8 div.sk-item {position: relative;z-index: 1;}#sk-container-id-8 div.sk-parallel {display: flex;align-items: stretch;justify-content: center;background-color: white;position: relative;}#sk-container-id-8 div.sk-item::before, #sk-container-id-8 div.sk-parallel-item::before {content: \"\";position: absolute;border-left: 1px solid gray;box-sizing: border-box;top: 0;bottom: 0;left: 50%;z-index: -1;}#sk-container-id-8 div.sk-parallel-item {display: flex;flex-direction: column;z-index: 1;position: relative;background-color: white;}#sk-container-id-8 div.sk-parallel-item:first-child::after {align-self: flex-end;width: 50%;}#sk-container-id-8 div.sk-parallel-item:last-child::after {align-self: flex-start;width: 50%;}#sk-container-id-8 div.sk-parallel-item:only-child::after {width: 0;}#sk-container-id-8 div.sk-dashed-wrapped {border: 1px dashed gray;margin: 0 0.4em 0.5em 0.4em;box-sizing: border-box;padding-bottom: 0.4em;background-color: white;}#sk-container-id-8 div.sk-label label {font-family: monospace;font-weight: bold;display: inline-block;line-height: 1.2em;}#sk-container-id-8 div.sk-label-container {text-align: center;}#sk-container-id-8 div.sk-container {/* jupyter's `normalize.less` sets `[hidden] { display: none; }` but bootstrap.min.css set `[hidden] { display: none !important; }` so we also need the `!important` here to be able to override the default hidden behavior on the sphinx rendered scikit-learn.org. See: https://github.com/scikit-learn/scikit-learn/issues/21755 */display: inline-block !important;position: relative;}#sk-container-id-8 div.sk-text-repr-fallback {display: none;}</style><div id=\"sk-container-id-8\" class=\"sk-top-container\"><div class=\"sk-text-repr-fallback\"><pre>KNeighborsClassifier(n_neighbors=255)</pre><b>In a Jupyter environment, please rerun this cell to show the HTML representation or trust the notebook. <br />On GitHub, the HTML representation is unable to render, please try loading this page with nbviewer.org.</b></div><div class=\"sk-container\" hidden><div class=\"sk-item\"><div class=\"sk-estimator sk-toggleable\"><input class=\"sk-toggleable__control sk-hidden--visually\" id=\"sk-estimator-id-8\" type=\"checkbox\" checked><label for=\"sk-estimator-id-8\" class=\"sk-toggleable__label sk-toggleable__label-arrow\">KNeighborsClassifier</label><div class=\"sk-toggleable__content\"><pre>KNeighborsClassifier(n_neighbors=255)</pre></div></div></div></div></div>"
      ],
      "text/plain": [
       "KNeighborsClassifier(n_neighbors=255)"
      ]
     },
     "execution_count": 124,
     "metadata": {},
     "output_type": "execute_result"
    }
   ],
   "source": [
    "KNN_model.fit(x_train,y_train)"
   ]
  },
  {
   "cell_type": "code",
   "execution_count": 125,
   "id": "4057c161",
   "metadata": {},
   "outputs": [],
   "source": [
    "y_pred_knn=KNN_model.predict(x_test)"
   ]
  },
  {
   "cell_type": "code",
   "execution_count": 126,
   "id": "bee682a7",
   "metadata": {},
   "outputs": [
    {
     "data": {
      "image/png": "[encoded data removed]",
      "text/plain": [
       "<Figure size 432x288 with 2 Axes>"
      ]
     },
     "metadata": {
      "needs_background": "light"
     },
     "output_type": "display_data"
    },
    {
     "name": "stdout",
     "output_type": "stream",
     "text": [
      "Accuracy Score:  0.5515950748565832\n",
      "Precision Score:  0.5430974951346601\n",
      "recall Score:  0.6095687711386697\n"
     ]
    }
   ],
   "source": [
    "Disp_Confusion_Matrix_test(y_test,y_pred_knn)"
   ]
  },
  {
   "cell_type": "code",
   "execution_count": 127,
   "id": "1e9ee3c1",
   "metadata": {},
   "outputs": [],
   "source": [
    "temp_scores=KNN_model.predict(x_train)"
   ]
  },
  {
   "cell_type": "code",
   "execution_count": 128,
   "id": "66b65204",
   "metadata": {},
   "outputs": [
    {
     "data": {
      "text/plain": [
       "(array([0, 1], dtype=int64), array([51279, 63071], dtype=int64))"
      ]
     },
     "execution_count": 128,
     "metadata": {},
     "output_type": "execute_result"
    }
   ],
   "source": [
    "np.unique(temp_scores,return_counts=True)"
   ]
  },
  {
   "cell_type": "code",
   "execution_count": 129,
   "id": "2cc1e912",
   "metadata": {},
   "outputs": [
    {
     "data": {
      "image/png": "[encoded data removed]",
      "text/plain": [
       "<Figure size 432x288 with 2 Axes>"
      ]
     },
     "metadata": {
      "needs_background": "light"
     },
     "output_type": "display_data"
    },
    {
     "name": "stdout",
     "output_type": "stream",
     "text": [
      "Accuracy Score:  0.5663489287275907\n",
      "Precision Score:  0.5609551140777853\n",
      "recall Score:  0.6176999493688566\n"
     ]
    }
   ],
   "source": [
    "Disp_Confusion_Matrix_train(y_train,temp_scores)"
   ]
  },
  {
   "cell_type": "markdown",
   "id": "d4513047",
   "metadata": {},
   "source": [
    "<html>\n",
    "    <br>\n",
    "</html>"
   ]
  },
  {
   "cell_type": "markdown",
   "id": "027e3436",
   "metadata": {},
   "source": [
    "<html>\n",
    "    <p></p>\n",
    "    <h3> Choosing the best model </h3>\n",
    "    <br>\n",
    "</html>"
   ]
  },
  {
   "cell_type": "code",
   "execution_count": 131,
   "id": "d4d5816c",
   "metadata": {},
   "outputs": [],
   "source": [
    "# From all the models we have evaluated above, The RandomForestClassifier algorithm gives the best metrics both for the training data and test data.\n",
    "# So we are gonna consider RandomForestClassifier for the further testing."
   ]
  },
  {
   "cell_type": "code",
   "execution_count": 132,
   "id": "85701167",
   "metadata": {},
   "outputs": [],
   "source": [
    "import pickle"
   ]
  },
  {
   "cell_type": "code",
   "execution_count": 133,
   "id": "2986e31b",
   "metadata": {},
   "outputs": [
    {
     "name": "stdout",
     "output_type": "stream",
     "text": [
      "0.9301105358891842\n"
     ]
    }
   ],
   "source": [
    "filename = 'finalized_model.sav'\n",
    "pickle.dump(model4, open(filename, 'wb'))\n",
    " \n",
    "# some time later...\n",
    " \n",
    "# load the model from disk\n",
    "loaded_model = pickle.load(open(filename, 'rb'))\n",
    "result = loaded_model.score(x_test, y_test)\n",
    "print(result)"
   ]
  }
 ],
 "metadata": {
  "kernelspec": {
   "display_name": "Python 3 (ipykernel)",
   "language": "python",
   "name": "python3"
  },
  "language_info": {
   "codemirror_mode": {
    "name": "ipython",
    "version": 3
   },
   "file_extension": ".py",
   "mimetype": "text/x-python",
   "name": "python",
   "nbconvert_exporter": "python",
   "pygments_lexer": "ipython3",
   "version": "3.10.5"
  }
 },
 "nbformat": 4,
 "nbformat_minor": 5
}
